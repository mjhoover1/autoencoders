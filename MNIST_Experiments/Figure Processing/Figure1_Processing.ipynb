{
  "nbformat": 4,
  "nbformat_minor": 0,
  "metadata": {
    "colab": {
      "name": "Figure1-Processing.ipynb",
      "provenance": []
    },
    "kernelspec": {
      "name": "python3",
      "display_name": "Python 3"
    },
    "language_info": {
      "name": "python"
    }
  },
  "cells": [
    {
      "cell_type": "code",
      "metadata": {
        "id": "1J1an_aioFHg"
      },
      "source": [
        "import pandas as pd"
      ],
      "execution_count": 42,
      "outputs": []
    },
    {
      "cell_type": "code",
      "metadata": {
        "colab": {
          "base_uri": "https://localhost:8080/"
        },
        "id": "uld-EerbkhOk",
        "outputId": "627e114f-e422-4a6c-8bf2-dfde9c301ec6"
      },
      "source": [
        "from google.colab import drive\n",
        "drive.mount('/content/gdrive', force_remount=True)"
      ],
      "execution_count": null,
      "outputs": [
        {
          "output_type": "stream",
          "name": "stdout",
          "text": [
            "Mounted at /content/gdrive\n"
          ]
        }
      ]
    },
    {
      "cell_type": "code",
      "metadata": {
        "id": "K58HSlTSANt2",
        "colab": {
          "base_uri": "https://localhost:8080/"
        },
        "outputId": "7a015bdb-6790-41a1-85db-0a7493f7edcc"
      },
      "source": [
        "!ls gdrive/MyDrive"
      ],
      "execution_count": 43,
      "outputs": [
        {
          "output_type": "stream",
          "name": "stdout",
          "text": [
            "'Colab Notebooks'   Figure1-Processing.ipynb\t Figure3.csv\n",
            " CSV\t\t    Figure2-3-Processing.ipynb\t Files1\n",
            " Figure1.csv\t    Figure2.csv\n"
          ]
        }
      ]
    },
    {
      "cell_type": "code",
      "metadata": {
        "id": "XP9GyRyCffk4",
        "colab": {
          "base_uri": "https://localhost:8080/"
        },
        "outputId": "1cf2ac15-877a-42ab-f2fe-5e8bcd7c5f40"
      },
      "source": [
        "df = pd.read_csv(\"/content/gdrive/MyDrive/Figure1.csv\")\n",
        "df.dtypes"
      ],
      "execution_count": 59,
      "outputs": [
        {
          "output_type": "execute_result",
          "data": {
            "text/plain": [
              "Experiment     object\n",
              "AE            float64\n",
              "VAE           float64\n",
              "VAE b=0       float64\n",
              "mVAE b=0.5    float64\n",
              "mVAE b=16     float64\n",
              "dtype: object"
            ]
          },
          "metadata": {},
          "execution_count": 59
        }
      ]
    },
    {
      "cell_type": "code",
      "source": [
        "df"
      ],
      "metadata": {
        "colab": {
          "base_uri": "https://localhost:8080/",
          "height": 520
        },
        "id": "vOEcSvpTuhm6",
        "outputId": "92326c4c-e77b-4dcb-d1e0-d7db40eb4802"
      },
      "execution_count": 60,
      "outputs": [
        {
          "output_type": "execute_result",
          "data": {
            "text/plain": [
              "   Experiment      AE     VAE  VAE b=0  mVAE b=0.5  mVAE b=16\n",
              "0    4,6N, 8A  0.9643  0.9615   0.9653      0.9664     0.8754\n",
              "1    2,7N, 6A  0.9595  0.9689   0.9553      0.9576     0.9113\n",
              "2    0,8N, 4A  0.9301  0.9242   0.9202      0.9251     0.8365\n",
              "3      2N, 5A  0.9690  0.9577   0.9655      0.9633     0.9153\n",
              "4      3N, 4A  0.9475  0.9322   0.9471      0.9416     0.8459\n",
              "5      0A, rN  0.9274  0.9271   0.9179      0.9329     0.9304\n",
              "6      1A, rN  0.8366  0.8179   0.8332      0.8074     0.6102\n",
              "7      2A, rN  0.9423  0.9433   0.9398      0.9385     0.9249\n",
              "8      3A, rN  0.9127  0.9027   0.9120      0.9041     0.8580\n",
              "9      4A, rN  0.9151  0.8997   0.9039      0.8910     0.7333\n",
              "10     5A, rN  0.9291  0.9251   0.9286      0.9198     0.8658\n",
              "11     6A, rN  0.9231  0.9136   0.9117      0.9202     0.9273\n",
              "12     7A, rN  0.7580  0.6862   0.6917      0.7377     0.6709\n",
              "13     8A, rN  0.9229  0.9196   0.9238      0.9229     0.8678\n",
              "14     9A, rN  0.6288  0.6564   0.6179      0.5973     0.6003"
            ],
            "text/html": [
              "\n",
              "  <div id=\"df-f28532e5-219c-4148-9cfc-5f1d6c873d57\">\n",
              "    <div class=\"colab-df-container\">\n",
              "      <div>\n",
              "<style scoped>\n",
              "    .dataframe tbody tr th:only-of-type {\n",
              "        vertical-align: middle;\n",
              "    }\n",
              "\n",
              "    .dataframe tbody tr th {\n",
              "        vertical-align: top;\n",
              "    }\n",
              "\n",
              "    .dataframe thead th {\n",
              "        text-align: right;\n",
              "    }\n",
              "</style>\n",
              "<table border=\"1\" class=\"dataframe\">\n",
              "  <thead>\n",
              "    <tr style=\"text-align: right;\">\n",
              "      <th></th>\n",
              "      <th>Experiment</th>\n",
              "      <th>AE</th>\n",
              "      <th>VAE</th>\n",
              "      <th>VAE b=0</th>\n",
              "      <th>mVAE b=0.5</th>\n",
              "      <th>mVAE b=16</th>\n",
              "    </tr>\n",
              "  </thead>\n",
              "  <tbody>\n",
              "    <tr>\n",
              "      <th>0</th>\n",
              "      <td>4,6N, 8A</td>\n",
              "      <td>0.9643</td>\n",
              "      <td>0.9615</td>\n",
              "      <td>0.9653</td>\n",
              "      <td>0.9664</td>\n",
              "      <td>0.8754</td>\n",
              "    </tr>\n",
              "    <tr>\n",
              "      <th>1</th>\n",
              "      <td>2,7N, 6A</td>\n",
              "      <td>0.9595</td>\n",
              "      <td>0.9689</td>\n",
              "      <td>0.9553</td>\n",
              "      <td>0.9576</td>\n",
              "      <td>0.9113</td>\n",
              "    </tr>\n",
              "    <tr>\n",
              "      <th>2</th>\n",
              "      <td>0,8N, 4A</td>\n",
              "      <td>0.9301</td>\n",
              "      <td>0.9242</td>\n",
              "      <td>0.9202</td>\n",
              "      <td>0.9251</td>\n",
              "      <td>0.8365</td>\n",
              "    </tr>\n",
              "    <tr>\n",
              "      <th>3</th>\n",
              "      <td>2N, 5A</td>\n",
              "      <td>0.9690</td>\n",
              "      <td>0.9577</td>\n",
              "      <td>0.9655</td>\n",
              "      <td>0.9633</td>\n",
              "      <td>0.9153</td>\n",
              "    </tr>\n",
              "    <tr>\n",
              "      <th>4</th>\n",
              "      <td>3N, 4A</td>\n",
              "      <td>0.9475</td>\n",
              "      <td>0.9322</td>\n",
              "      <td>0.9471</td>\n",
              "      <td>0.9416</td>\n",
              "      <td>0.8459</td>\n",
              "    </tr>\n",
              "    <tr>\n",
              "      <th>5</th>\n",
              "      <td>0A, rN</td>\n",
              "      <td>0.9274</td>\n",
              "      <td>0.9271</td>\n",
              "      <td>0.9179</td>\n",
              "      <td>0.9329</td>\n",
              "      <td>0.9304</td>\n",
              "    </tr>\n",
              "    <tr>\n",
              "      <th>6</th>\n",
              "      <td>1A, rN</td>\n",
              "      <td>0.8366</td>\n",
              "      <td>0.8179</td>\n",
              "      <td>0.8332</td>\n",
              "      <td>0.8074</td>\n",
              "      <td>0.6102</td>\n",
              "    </tr>\n",
              "    <tr>\n",
              "      <th>7</th>\n",
              "      <td>2A, rN</td>\n",
              "      <td>0.9423</td>\n",
              "      <td>0.9433</td>\n",
              "      <td>0.9398</td>\n",
              "      <td>0.9385</td>\n",
              "      <td>0.9249</td>\n",
              "    </tr>\n",
              "    <tr>\n",
              "      <th>8</th>\n",
              "      <td>3A, rN</td>\n",
              "      <td>0.9127</td>\n",
              "      <td>0.9027</td>\n",
              "      <td>0.9120</td>\n",
              "      <td>0.9041</td>\n",
              "      <td>0.8580</td>\n",
              "    </tr>\n",
              "    <tr>\n",
              "      <th>9</th>\n",
              "      <td>4A, rN</td>\n",
              "      <td>0.9151</td>\n",
              "      <td>0.8997</td>\n",
              "      <td>0.9039</td>\n",
              "      <td>0.8910</td>\n",
              "      <td>0.7333</td>\n",
              "    </tr>\n",
              "    <tr>\n",
              "      <th>10</th>\n",
              "      <td>5A, rN</td>\n",
              "      <td>0.9291</td>\n",
              "      <td>0.9251</td>\n",
              "      <td>0.9286</td>\n",
              "      <td>0.9198</td>\n",
              "      <td>0.8658</td>\n",
              "    </tr>\n",
              "    <tr>\n",
              "      <th>11</th>\n",
              "      <td>6A, rN</td>\n",
              "      <td>0.9231</td>\n",
              "      <td>0.9136</td>\n",
              "      <td>0.9117</td>\n",
              "      <td>0.9202</td>\n",
              "      <td>0.9273</td>\n",
              "    </tr>\n",
              "    <tr>\n",
              "      <th>12</th>\n",
              "      <td>7A, rN</td>\n",
              "      <td>0.7580</td>\n",
              "      <td>0.6862</td>\n",
              "      <td>0.6917</td>\n",
              "      <td>0.7377</td>\n",
              "      <td>0.6709</td>\n",
              "    </tr>\n",
              "    <tr>\n",
              "      <th>13</th>\n",
              "      <td>8A, rN</td>\n",
              "      <td>0.9229</td>\n",
              "      <td>0.9196</td>\n",
              "      <td>0.9238</td>\n",
              "      <td>0.9229</td>\n",
              "      <td>0.8678</td>\n",
              "    </tr>\n",
              "    <tr>\n",
              "      <th>14</th>\n",
              "      <td>9A, rN</td>\n",
              "      <td>0.6288</td>\n",
              "      <td>0.6564</td>\n",
              "      <td>0.6179</td>\n",
              "      <td>0.5973</td>\n",
              "      <td>0.6003</td>\n",
              "    </tr>\n",
              "  </tbody>\n",
              "</table>\n",
              "</div>\n",
              "      <button class=\"colab-df-convert\" onclick=\"convertToInteractive('df-f28532e5-219c-4148-9cfc-5f1d6c873d57')\"\n",
              "              title=\"Convert this dataframe to an interactive table.\"\n",
              "              style=\"display:none;\">\n",
              "        \n",
              "  <svg xmlns=\"http://www.w3.org/2000/svg\" height=\"24px\"viewBox=\"0 0 24 24\"\n",
              "       width=\"24px\">\n",
              "    <path d=\"M0 0h24v24H0V0z\" fill=\"none\"/>\n",
              "    <path d=\"M18.56 5.44l.94 2.06.94-2.06 2.06-.94-2.06-.94-.94-2.06-.94 2.06-2.06.94zm-11 1L8.5 8.5l.94-2.06 2.06-.94-2.06-.94L8.5 2.5l-.94 2.06-2.06.94zm10 10l.94 2.06.94-2.06 2.06-.94-2.06-.94-.94-2.06-.94 2.06-2.06.94z\"/><path d=\"M17.41 7.96l-1.37-1.37c-.4-.4-.92-.59-1.43-.59-.52 0-1.04.2-1.43.59L10.3 9.45l-7.72 7.72c-.78.78-.78 2.05 0 2.83L4 21.41c.39.39.9.59 1.41.59.51 0 1.02-.2 1.41-.59l7.78-7.78 2.81-2.81c.8-.78.8-2.07 0-2.86zM5.41 20L4 18.59l7.72-7.72 1.47 1.35L5.41 20z\"/>\n",
              "  </svg>\n",
              "      </button>\n",
              "      \n",
              "  <style>\n",
              "    .colab-df-container {\n",
              "      display:flex;\n",
              "      flex-wrap:wrap;\n",
              "      gap: 12px;\n",
              "    }\n",
              "\n",
              "    .colab-df-convert {\n",
              "      background-color: #E8F0FE;\n",
              "      border: none;\n",
              "      border-radius: 50%;\n",
              "      cursor: pointer;\n",
              "      display: none;\n",
              "      fill: #1967D2;\n",
              "      height: 32px;\n",
              "      padding: 0 0 0 0;\n",
              "      width: 32px;\n",
              "    }\n",
              "\n",
              "    .colab-df-convert:hover {\n",
              "      background-color: #E2EBFA;\n",
              "      box-shadow: 0px 1px 2px rgba(60, 64, 67, 0.3), 0px 1px 3px 1px rgba(60, 64, 67, 0.15);\n",
              "      fill: #174EA6;\n",
              "    }\n",
              "\n",
              "    [theme=dark] .colab-df-convert {\n",
              "      background-color: #3B4455;\n",
              "      fill: #D2E3FC;\n",
              "    }\n",
              "\n",
              "    [theme=dark] .colab-df-convert:hover {\n",
              "      background-color: #434B5C;\n",
              "      box-shadow: 0px 1px 3px 1px rgba(0, 0, 0, 0.15);\n",
              "      filter: drop-shadow(0px 1px 2px rgba(0, 0, 0, 0.3));\n",
              "      fill: #FFFFFF;\n",
              "    }\n",
              "  </style>\n",
              "\n",
              "      <script>\n",
              "        const buttonEl =\n",
              "          document.querySelector('#df-f28532e5-219c-4148-9cfc-5f1d6c873d57 button.colab-df-convert');\n",
              "        buttonEl.style.display =\n",
              "          google.colab.kernel.accessAllowed ? 'block' : 'none';\n",
              "\n",
              "        async function convertToInteractive(key) {\n",
              "          const element = document.querySelector('#df-f28532e5-219c-4148-9cfc-5f1d6c873d57');\n",
              "          const dataTable =\n",
              "            await google.colab.kernel.invokeFunction('convertToInteractive',\n",
              "                                                     [key], {});\n",
              "          if (!dataTable) return;\n",
              "\n",
              "          const docLinkHtml = 'Like what you see? Visit the ' +\n",
              "            '<a target=\"_blank\" href=https://colab.research.google.com/notebooks/data_table.ipynb>data table notebook</a>'\n",
              "            + ' to learn more about interactive tables.';\n",
              "          element.innerHTML = '';\n",
              "          dataTable['output_type'] = 'display_data';\n",
              "          await google.colab.output.renderOutput(dataTable, element);\n",
              "          const docLink = document.createElement('div');\n",
              "          docLink.innerHTML = docLinkHtml;\n",
              "          element.appendChild(docLink);\n",
              "        }\n",
              "      </script>\n",
              "    </div>\n",
              "  </div>\n",
              "  "
            ]
          },
          "metadata": {},
          "execution_count": 60
        }
      ]
    },
    {
      "cell_type": "code",
      "source": [
        "df.loc[:, 'AE':] *= 100"
      ],
      "metadata": {
        "id": "tZugSPA_5fuw"
      },
      "execution_count": 61,
      "outputs": []
    },
    {
      "cell_type": "code",
      "metadata": {
        "id": "PjrG41VkQl6e",
        "colab": {
          "base_uri": "https://localhost:8080/",
          "height": 249
        },
        "outputId": "d72d349b-7951-4275-9d0a-81583e7824c5"
      },
      "source": [
        "import numpy as np\n",
        "import matplotlib.pyplot as plt\n",
        "ax = df.plot(kind='bar', width=0.7, figsize=(8, 3), fontsize=11, color=['g', 'magenta', 'c', 'b', 'orange']) #, x = 'Experiment'\n",
        "ax.grid(axis=\"y\", linestyle=':')\n",
        "ax.set_ylabel('Accuracy (%)', fontsize = 11)\n",
        "ax.set_ylim(0, 100)\n",
        "# ax.set_xlabel('Experiment', fontsize = 11)\n",
        "list2 = list(df.Experiment)\n",
        "ax.set_xticklabels(list2, rotation=55, ha='right')\n",
        "ax.legend(bbox_to_anchor=(1, 1.0), fontsize = 10)\n",
        "plt.show()"
      ],
      "execution_count": 77,
      "outputs": [
        {
          "output_type": "display_data",
          "data": {
            "text/plain": [
              "<Figure size 576x216 with 1 Axes>"
            ],
            "image/png": "[encoded data removed]"
          },
          "metadata": {
            "needs_background": "light"
          }
        }
      ]
    }
  ]
}