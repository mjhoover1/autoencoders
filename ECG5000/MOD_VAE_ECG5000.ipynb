{
  "nbformat": 4,
  "nbformat_minor": 0,
  "metadata": {
    "colab": {
      "name": "MOD_VAE_ECG5000.ipynb",
      "provenance": [],
      "collapsed_sections": []
    },
    "kernelspec": {
      "name": "python3",
      "display_name": "Python 3"
    },
    "language_info": {
      "name": "python"
    },
    "accelerator": "GPU"
  },
  "cells": [
    {
      "cell_type": "markdown",
      "source": [
        "References: Chapter 17 of Geron's book. For 1-Dim plots, Keras tutorial : https://www.tensorflow.org/tutorials/generative/autoencoder\n",
        "\n",
        "This file trains a modified VAE (with a different sampling layer and a different loss function) with the instances of the normal ECGs in the training data. Then, it measures the reconstruction loss for the ECGs in the test data. The reconstruction loss for the instances of the abnormal ECGs in the test data is higher. A threshold is determined based on the distribution of the reconstruction losses of the normal training data (threshold = mean + 2.5*std of this distribution). Then, if the reconstruction loss of a ECG in the test data is higher than this threshold, it is classified as abnormal. By comparing with the known labels of test data (with T for normal ECG(s) and F for abnormal ECG(s)), the confusion matrix and the accuracy is calculated."
      ],
      "metadata": {
        "id": "VVE8UchZiHuY"
      }
    },
    {
      "cell_type": "markdown",
      "source": [
        "Import the necessary libraries:"
      ],
      "metadata": {
        "id": "puep1aZLiZ15"
      }
    },
    {
      "cell_type": "code",
      "source": [
        "import matplotlib.pyplot as plt\n",
        "import numpy as np\n",
        "import pandas as pd\n",
        "import tensorflow as tf\n",
        "from tensorflow import keras\n",
        "\n",
        "from sklearn.metrics import accuracy_score, precision_score, recall_score, confusion_matrix\n",
        "from sklearn.model_selection import train_test_split\n",
        "from keras import layers, losses\n",
        "from keras.models import Model"
      ],
      "metadata": {
        "id": "6E1BGLJkiMw-"
      },
      "execution_count": 1,
      "outputs": []
    },
    {
      "cell_type": "markdown",
      "source": [
        "Loading the ECG5000 data:"
      ],
      "metadata": {
        "id": "1Hg2oBfyir01"
      }
    },
    {
      "cell_type": "code",
      "source": [
        "# Download the dataset\n",
        "dataframe = pd.read_csv('http://storage.googleapis.com/download.tensorflow.org/data/ecg.csv', header=None)\n",
        "raw_data = dataframe.values\n",
        "dataframe.head()"
      ],
      "metadata": {
        "colab": {
          "base_uri": "https://localhost:8080/",
          "height": 299
        },
        "id": "sVZpYTd9ioKo",
        "outputId": "b3f0f5c9-38e0-418e-b796-35c2e1dad994"
      },
      "execution_count": 2,
      "outputs": [
        {
          "output_type": "execute_result",
          "data": {
            "text/plain": [
              "        0         1         2         3         4         5         6    \\\n",
              "0 -0.112522 -2.827204 -3.773897 -4.349751 -4.376041 -3.474986 -2.181408   \n",
              "1 -1.100878 -3.996840 -4.285843 -4.506579 -4.022377 -3.234368 -1.566126   \n",
              "2 -0.567088 -2.593450 -3.874230 -4.584095 -4.187449 -3.151462 -1.742940   \n",
              "3  0.490473 -1.914407 -3.616364 -4.318823 -4.268016 -3.881110 -2.993280   \n",
              "4  0.800232 -0.874252 -2.384761 -3.973292 -4.338224 -3.802422 -2.534510   \n",
              "\n",
              "        7         8         9    ...       131       132       133       134  \\\n",
              "0 -1.818286 -1.250522 -0.477492  ...  0.792168  0.933541  0.796958  0.578621   \n",
              "1 -0.992258 -0.754680  0.042321  ...  0.538356  0.656881  0.787490  0.724046   \n",
              "2 -1.490659 -1.183580 -0.394229  ...  0.886073  0.531452  0.311377 -0.021919   \n",
              "3 -1.671131 -1.333884 -0.965629  ...  0.350816  0.499111  0.600345  0.842069   \n",
              "4 -1.783423 -1.594450 -0.753199  ...  1.148884  0.958434  1.059025  1.371682   \n",
              "\n",
              "        135       136       137       138       139  140  \n",
              "0  0.257740  0.228077  0.123431  0.925286  0.193137  1.0  \n",
              "1  0.555784  0.476333  0.773820  1.119621 -1.436250  1.0  \n",
              "2 -0.713683 -0.532197  0.321097  0.904227 -0.421797  1.0  \n",
              "3  0.952074  0.990133  1.086798  1.403011 -0.383564  1.0  \n",
              "4  1.277392  0.960304  0.971020  1.614392  1.421456  1.0  \n",
              "\n",
              "[5 rows x 141 columns]"
            ],
            "text/html": [
              "\n",
              "  <div id=\"df-6342ec50-2a85-4ed6-a09c-1dbaabaf6af0\">\n",
              "    <div class=\"colab-df-container\">\n",
              "      <div>\n",
              "<style scoped>\n",
              "    .dataframe tbody tr th:only-of-type {\n",
              "        vertical-align: middle;\n",
              "    }\n",
              "\n",
              "    .dataframe tbody tr th {\n",
              "        vertical-align: top;\n",
              "    }\n",
              "\n",
              "    .dataframe thead th {\n",
              "        text-align: right;\n",
              "    }\n",
              "</style>\n",
              "<table border=\"1\" class=\"dataframe\">\n",
              "  <thead>\n",
              "    <tr style=\"text-align: right;\">\n",
              "      <th></th>\n",
              "      <th>0</th>\n",
              "      <th>1</th>\n",
              "      <th>2</th>\n",
              "      <th>3</th>\n",
              "      <th>4</th>\n",
              "      <th>5</th>\n",
              "      <th>6</th>\n",
              "      <th>7</th>\n",
              "      <th>8</th>\n",
              "      <th>9</th>\n",
              "      <th>...</th>\n",
              "      <th>131</th>\n",
              "      <th>132</th>\n",
              "      <th>133</th>\n",
              "      <th>134</th>\n",
              "      <th>135</th>\n",
              "      <th>136</th>\n",
              "      <th>137</th>\n",
              "      <th>138</th>\n",
              "      <th>139</th>\n",
              "      <th>140</th>\n",
              "    </tr>\n",
              "  </thead>\n",
              "  <tbody>\n",
              "    <tr>\n",
              "      <th>0</th>\n",
              "      <td>-0.112522</td>\n",
              "      <td>-2.827204</td>\n",
              "      <td>-3.773897</td>\n",
              "      <td>-4.349751</td>\n",
              "      <td>-4.376041</td>\n",
              "      <td>-3.474986</td>\n",
              "      <td>-2.181408</td>\n",
              "      <td>-1.818286</td>\n",
              "      <td>-1.250522</td>\n",
              "      <td>-0.477492</td>\n",
              "      <td>...</td>\n",
              "      <td>0.792168</td>\n",
              "      <td>0.933541</td>\n",
              "      <td>0.796958</td>\n",
              "      <td>0.578621</td>\n",
              "      <td>0.257740</td>\n",
              "      <td>0.228077</td>\n",
              "      <td>0.123431</td>\n",
              "      <td>0.925286</td>\n",
              "      <td>0.193137</td>\n",
              "      <td>1.0</td>\n",
              "    </tr>\n",
              "    <tr>\n",
              "      <th>1</th>\n",
              "      <td>-1.100878</td>\n",
              "      <td>-3.996840</td>\n",
              "      <td>-4.285843</td>\n",
              "      <td>-4.506579</td>\n",
              "      <td>-4.022377</td>\n",
              "      <td>-3.234368</td>\n",
              "      <td>-1.566126</td>\n",
              "      <td>-0.992258</td>\n",
              "      <td>-0.754680</td>\n",
              "      <td>0.042321</td>\n",
              "      <td>...</td>\n",
              "      <td>0.538356</td>\n",
              "      <td>0.656881</td>\n",
              "      <td>0.787490</td>\n",
              "      <td>0.724046</td>\n",
              "      <td>0.555784</td>\n",
              "      <td>0.476333</td>\n",
              "      <td>0.773820</td>\n",
              "      <td>1.119621</td>\n",
              "      <td>-1.436250</td>\n",
              "      <td>1.0</td>\n",
              "    </tr>\n",
              "    <tr>\n",
              "      <th>2</th>\n",
              "      <td>-0.567088</td>\n",
              "      <td>-2.593450</td>\n",
              "      <td>-3.874230</td>\n",
              "      <td>-4.584095</td>\n",
              "      <td>-4.187449</td>\n",
              "      <td>-3.151462</td>\n",
              "      <td>-1.742940</td>\n",
              "      <td>-1.490659</td>\n",
              "      <td>-1.183580</td>\n",
              "      <td>-0.394229</td>\n",
              "      <td>...</td>\n",
              "      <td>0.886073</td>\n",
              "      <td>0.531452</td>\n",
              "      <td>0.311377</td>\n",
              "      <td>-0.021919</td>\n",
              "      <td>-0.713683</td>\n",
              "      <td>-0.532197</td>\n",
              "      <td>0.321097</td>\n",
              "      <td>0.904227</td>\n",
              "      <td>-0.421797</td>\n",
              "      <td>1.0</td>\n",
              "    </tr>\n",
              "    <tr>\n",
              "      <th>3</th>\n",
              "      <td>0.490473</td>\n",
              "      <td>-1.914407</td>\n",
              "      <td>-3.616364</td>\n",
              "      <td>-4.318823</td>\n",
              "      <td>-4.268016</td>\n",
              "      <td>-3.881110</td>\n",
              "      <td>-2.993280</td>\n",
              "      <td>-1.671131</td>\n",
              "      <td>-1.333884</td>\n",
              "      <td>-0.965629</td>\n",
              "      <td>...</td>\n",
              "      <td>0.350816</td>\n",
              "      <td>0.499111</td>\n",
              "      <td>0.600345</td>\n",
              "      <td>0.842069</td>\n",
              "      <td>0.952074</td>\n",
              "      <td>0.990133</td>\n",
              "      <td>1.086798</td>\n",
              "      <td>1.403011</td>\n",
              "      <td>-0.383564</td>\n",
              "      <td>1.0</td>\n",
              "    </tr>\n",
              "    <tr>\n",
              "      <th>4</th>\n",
              "      <td>0.800232</td>\n",
              "      <td>-0.874252</td>\n",
              "      <td>-2.384761</td>\n",
              "      <td>-3.973292</td>\n",
              "      <td>-4.338224</td>\n",
              "      <td>-3.802422</td>\n",
              "      <td>-2.534510</td>\n",
              "      <td>-1.783423</td>\n",
              "      <td>-1.594450</td>\n",
              "      <td>-0.753199</td>\n",
              "      <td>...</td>\n",
              "      <td>1.148884</td>\n",
              "      <td>0.958434</td>\n",
              "      <td>1.059025</td>\n",
              "      <td>1.371682</td>\n",
              "      <td>1.277392</td>\n",
              "      <td>0.960304</td>\n",
              "      <td>0.971020</td>\n",
              "      <td>1.614392</td>\n",
              "      <td>1.421456</td>\n",
              "      <td>1.0</td>\n",
              "    </tr>\n",
              "  </tbody>\n",
              "</table>\n",
              "<p>5 rows × 141 columns</p>\n",
              "</div>\n",
              "      <button class=\"colab-df-convert\" onclick=\"convertToInteractive('df-6342ec50-2a85-4ed6-a09c-1dbaabaf6af0')\"\n",
              "              title=\"Convert this dataframe to an interactive table.\"\n",
              "              style=\"display:none;\">\n",
              "        \n",
              "  <svg xmlns=\"http://www.w3.org/2000/svg\" height=\"24px\"viewBox=\"0 0 24 24\"\n",
              "       width=\"24px\">\n",
              "    <path d=\"M0 0h24v24H0V0z\" fill=\"none\"/>\n",
              "    <path d=\"M18.56 5.44l.94 2.06.94-2.06 2.06-.94-2.06-.94-.94-2.06-.94 2.06-2.06.94zm-11 1L8.5 8.5l.94-2.06 2.06-.94-2.06-.94L8.5 2.5l-.94 2.06-2.06.94zm10 10l.94 2.06.94-2.06 2.06-.94-2.06-.94-.94-2.06-.94 2.06-2.06.94z\"/><path d=\"M17.41 7.96l-1.37-1.37c-.4-.4-.92-.59-1.43-.59-.52 0-1.04.2-1.43.59L10.3 9.45l-7.72 7.72c-.78.78-.78 2.05 0 2.83L4 21.41c.39.39.9.59 1.41.59.51 0 1.02-.2 1.41-.59l7.78-7.78 2.81-2.81c.8-.78.8-2.07 0-2.86zM5.41 20L4 18.59l7.72-7.72 1.47 1.35L5.41 20z\"/>\n",
              "  </svg>\n",
              "      </button>\n",
              "      \n",
              "  <style>\n",
              "    .colab-df-container {\n",
              "      display:flex;\n",
              "      flex-wrap:wrap;\n",
              "      gap: 12px;\n",
              "    }\n",
              "\n",
              "    .colab-df-convert {\n",
              "      background-color: #E8F0FE;\n",
              "      border: none;\n",
              "      border-radius: 50%;\n",
              "      cursor: pointer;\n",
              "      display: none;\n",
              "      fill: #1967D2;\n",
              "      height: 32px;\n",
              "      padding: 0 0 0 0;\n",
              "      width: 32px;\n",
              "    }\n",
              "\n",
              "    .colab-df-convert:hover {\n",
              "      background-color: #E2EBFA;\n",
              "      box-shadow: 0px 1px 2px rgba(60, 64, 67, 0.3), 0px 1px 3px 1px rgba(60, 64, 67, 0.15);\n",
              "      fill: #174EA6;\n",
              "    }\n",
              "\n",
              "    [theme=dark] .colab-df-convert {\n",
              "      background-color: #3B4455;\n",
              "      fill: #D2E3FC;\n",
              "    }\n",
              "\n",
              "    [theme=dark] .colab-df-convert:hover {\n",
              "      background-color: #434B5C;\n",
              "      box-shadow: 0px 1px 3px 1px rgba(0, 0, 0, 0.15);\n",
              "      filter: drop-shadow(0px 1px 2px rgba(0, 0, 0, 0.3));\n",
              "      fill: #FFFFFF;\n",
              "    }\n",
              "  </style>\n",
              "\n",
              "      <script>\n",
              "        const buttonEl =\n",
              "          document.querySelector('#df-6342ec50-2a85-4ed6-a09c-1dbaabaf6af0 button.colab-df-convert');\n",
              "        buttonEl.style.display =\n",
              "          google.colab.kernel.accessAllowed ? 'block' : 'none';\n",
              "\n",
              "        async function convertToInteractive(key) {\n",
              "          const element = document.querySelector('#df-6342ec50-2a85-4ed6-a09c-1dbaabaf6af0');\n",
              "          const dataTable =\n",
              "            await google.colab.kernel.invokeFunction('convertToInteractive',\n",
              "                                                     [key], {});\n",
              "          if (!dataTable) return;\n",
              "\n",
              "          const docLinkHtml = 'Like what you see? Visit the ' +\n",
              "            '<a target=\"_blank\" href=https://colab.research.google.com/notebooks/data_table.ipynb>data table notebook</a>'\n",
              "            + ' to learn more about interactive tables.';\n",
              "          element.innerHTML = '';\n",
              "          dataTable['output_type'] = 'display_data';\n",
              "          await google.colab.output.renderOutput(dataTable, element);\n",
              "          const docLink = document.createElement('div');\n",
              "          docLink.innerHTML = docLinkHtml;\n",
              "          element.appendChild(docLink);\n",
              "        }\n",
              "      </script>\n",
              "    </div>\n",
              "  </div>\n",
              "  "
            ]
          },
          "metadata": {},
          "execution_count": 2
        }
      ]
    },
    {
      "cell_type": "markdown",
      "source": [
        "Parse the data so it can be split creating a variable containing the labels and another containing the data. Splitting the data into train, validation, and test set."
      ],
      "metadata": {
        "id": "-hw024JmjRKU"
      }
    },
    {
      "cell_type": "code",
      "source": [
        "# The last element contains the labels\n",
        "labels = raw_data[:, -1]\n",
        "\n",
        "# The other data points are the electrocadriogram data\n",
        "data = raw_data[:, 0:-1]\n",
        "\n",
        "train_data, test_data, train_labels, test_labels = train_test_split(\n",
        "    data, labels, test_size=0.2, random_state=21\n",
        ")\n",
        "\n",
        "train_data, valid_data, train_labels, valid_labels = train_test_split(\n",
        "    train_data, train_labels, test_size=.1, random_state=21\n",
        ")"
      ],
      "metadata": {
        "id": "7z40q2oRi_Lz"
      },
      "execution_count": 3,
      "outputs": []
    },
    {
      "cell_type": "markdown",
      "source": [
        "Normalize the data so the features are treated equally, normalizing using the overall min and max value of all training data (train/validation set)."
      ],
      "metadata": {
        "id": "PRXrsvEBkJic"
      }
    },
    {
      "cell_type": "code",
      "source": [
        "min_val = tf.reduce_min(tf.concat([train_data, valid_data], 0))\n",
        "max_val = tf.reduce_max(tf.concat([train_data, valid_data], 0))\n",
        "\n",
        "train_data = (train_data - min_val) / (max_val - min_val)\n",
        "valid_data = (valid_data - min_val) / (max_val - min_val)\n",
        "test_data = (test_data - min_val) / (max_val - min_val)\n",
        "\n",
        "train_data = tf.cast(train_data, tf.float32)\n",
        "valid_data = tf.cast(valid_data, tf.float32)\n",
        "test_data = tf.cast(test_data, tf.float32)"
      ],
      "metadata": {
        "id": "dZcaP05BkG-a"
      },
      "execution_count": 4,
      "outputs": []
    },
    {
      "cell_type": "markdown",
      "source": [
        "The autoencoder is trained using only the normal rhythms, which are labeled in this dataset as 1. Here the normal rhythms is separated from the abnormal rhythms, and the labels are casted as type bool."
      ],
      "metadata": {
        "id": "ghSz8HNJkiiL"
      }
    },
    {
      "cell_type": "code",
      "source": [
        "train_labels = train_labels.astype(bool)\n",
        "valid_labels = valid_labels.astype(bool)\n",
        "test_labels = test_labels.astype(bool)\n",
        "\n",
        "normal_train_data = train_data[train_labels]\n",
        "normal_valid_data = valid_data[valid_labels]\n",
        "normal_test_data = test_data[test_labels]\n",
        "\n",
        "anomalous_train_data = train_data[~train_labels]\n",
        "anomalous_valid_data = valid_data[~valid_labels]\n",
        "anomalous_test_data = test_data[~test_labels]"
      ],
      "metadata": {
        "id": "JuOFToBDkjl-"
      },
      "execution_count": 5,
      "outputs": []
    },
    {
      "cell_type": "markdown",
      "source": [
        "Initialize K with the Keras backend to utilize it's methods in the Sampling function."
      ],
      "metadata": {
        "id": "zX7sVmJaYHGE"
      }
    },
    {
      "cell_type": "code",
      "source": [
        "K = keras.backend"
      ],
      "metadata": {
        "id": "4kkgQ8qek-ur"
      },
      "execution_count": 6,
      "outputs": []
    },
    {
      "cell_type": "markdown",
      "source": [
        "This Sampling layer takes two inputs: mean (μ) and log_var (γ). It uses the function K.random_normal() to sample a random vector (of the same shape as γ) from the Normal distribution, with mean 0 and standard deviation 1. Then it multiplies it by exp(γ/2) (which is equal to σ, as you can verify), and finally it adds μ and returns the result. This samples a codings vector from the Normal distribution with mean μ and standard deviation σ."
      ],
      "metadata": {
        "id": "7eAYeTmkcW_s"
      }
    },
    {
      "cell_type": "code",
      "source": [
        "# Modified sampling layer with the addition of mean_2, log_var_2, and fraction p, with\n",
        "# the appropriate change in the reparametrization trick to do stochastic \n",
        "# sampling from the superposition of the two MVN distributions, while allowing\n",
        "# the 5 parallel layers containing the means and stds of the two MVNs and the fractions p's\n",
        "# for each dimension to be trained via backpropogation of the error signal.\n",
        "class Sampling(keras.layers.Layer):\n",
        "    def call(self, inputs):\n",
        "        mean_1, log_var_1, mean_2, log_var_2, p = inputs\n",
        "        return p*(K.random_normal(tf.shape(log_var_1))*K.exp(log_var_1/2)+mean_1) +  (1-p)*(K.random_normal(tf.shape(log_var_2))*K.exp(log_var_2/2)+mean_2)"
      ],
      "metadata": {
        "id": "2jkzw8TrPKQL"
      },
      "execution_count": 7,
      "outputs": []
    },
    {
      "cell_type": "markdown",
      "source": [
        "Create the encoder, using the Functional API because the model is not\n",
        "entirely sequential:"
      ],
      "metadata": {
        "id": "4LWgQRDBYiIt"
      }
    },
    {
      "cell_type": "code",
      "source": [
        "# For details please see Geron's book. \n",
        "codings_size = 8   # The number of dimensions of the MVN distribution in the sampling layer\n",
        "\n",
        "inputs = keras.layers.Input(shape=(normal_train_data.shape[1]))\n",
        "z = keras.layers.Dense(32, activation=\"selu\")(inputs)\n",
        "z = keras.layers.Dense(16, activation=\"selu\")(z)\n",
        "\n",
        "# Adding output nodes (parallel layers) at the end of the encoder for means \n",
        "# and standard deviations of a second Multivariate Normal (MVN) distribution \n",
        "# in the dimensions of the coding size (here 32). In each of the dimensions,\n",
        "# this first MVN is multiplied by a fraction p and added to the second MVN\n",
        "# multiplied by 1 - p in each dimension.\n",
        "# final distribution = p * first MVN + (1 - p) * second MVN\n",
        "# Another parallel layer (set of nodes) is added to keep and train the fractions p's\n",
        "# in each dimension \n",
        "codings_mean_1 = keras.layers.Dense(codings_size)(z)\n",
        "codings_log_var_1 = keras.layers.Dense(codings_size)(z)\n",
        "codings_mean_2 = keras.layers.Dense(codings_size)(z)\n",
        "codings_log_var_2 = keras.layers.Dense(codings_size)(z)\n",
        "codings_p = keras.layers.Dense(1, activation='sigmoid')(z)\n",
        "# codings_p = keras.layers.Dense(codings_size)(z) old\n",
        "\n",
        "\n",
        "# Sampling layer at the end of the encoder\n",
        "# Modified sampling layer at the end of the encoder\n",
        "codings = Sampling()([codings_mean_1, codings_log_var_1, codings_mean_2, codings_log_var_2, codings_p])\n",
        "variational_encoder = keras.models.Model(\n",
        "    inputs=[inputs], outputs=[codings_mean_1, codings_log_var_1, codings_mean_2, codings_log_var_2, codings_p, codings])\n",
        "\n",
        "decoder_inputs = keras.layers.Input(shape=[codings_size])\n",
        "x = keras.layers.Dense(16, activation=\"selu\")(decoder_inputs)\n",
        "x = keras.layers.Dense(32, activation=\"selu\")(x)\n",
        "outputs = keras.layers.Dense(normal_train_data.shape[1], activation=\"sigmoid\")(x)\n",
        "variational_decoder = keras.models.Model(inputs=[decoder_inputs], outputs=[outputs])\n",
        "\n",
        "_, _, _, _, _, codings = variational_encoder(inputs)\n",
        "reconstructions = variational_decoder(codings)\n",
        "variational_ae = keras.models.Model(inputs=[inputs], outputs=[reconstructions])\n",
        "\n",
        "# New latent loss function that will be added to the reconstruction binary cross-entropy loss\n",
        "# The whole network (Encoder, sampling layer, and decoder) will train to minimize this loss\n",
        "p_mean = K.mean(codings_p)\n",
        "array1 = p_mean*(codings_log_var_1 - K.exp(codings_log_var_1) - K.square(codings_mean_1))\n",
        "array2 = (1-p_mean)*(codings_log_var_2 - K.exp(codings_log_var_2) - K.square(codings_mean_2))\n",
        "sum1 = K.sum(1 + array1, axis=-1)\n",
        "sum2 = K.sum(1 + array2, axis=-1)\n",
        "\n",
        "\n",
        "latent_loss = -0.5 * (sum1 + sum2)\n",
        "latent_loss *= .5\n",
        "\n",
        "# Add the latent loss to the reconstruction loss\n",
        "variational_ae.add_loss(K.mean(latent_loss) / 140.)\n",
        "\n",
        "# For the reconstruction loss binary cross-entropy loss is used. \n",
        "# For details please see Chapter 17 of Geron's book (Stacked AE and VAE sections) \n",
        "variational_ae.compile(loss=\"mae\", optimizer=\"adam\")\n",
        "\n",
        "history = variational_ae.fit(normal_train_data, normal_train_data, epochs=100, batch_size=512,\n",
        "                             validation_data=(test_data, test_data), shuffle=True)"
      ],
      "metadata": {
        "colab": {
          "base_uri": "https://localhost:8080/",
          "height": 0
        },
        "id": "3sdY-gIoPQY9",
        "outputId": "7654e797-9829-4ce4-8d36-b536a3700303"
      },
      "execution_count": 8,
      "outputs": [
        {
          "output_type": "stream",
          "name": "stdout",
          "text": [
            "Epoch 1/100\n",
            "5/5 [==============================] - 4s 132ms/step - loss: 0.1161 - val_loss: 0.0815\n",
            "Epoch 2/100\n",
            "5/5 [==============================] - 0s 22ms/step - loss: 0.0772 - val_loss: 0.0732\n",
            "Epoch 3/100\n",
            "5/5 [==============================] - 0s 27ms/step - loss: 0.0698 - val_loss: 0.0653\n",
            "Epoch 4/100\n",
            "5/5 [==============================] - 0s 25ms/step - loss: 0.0612 - val_loss: 0.0590\n",
            "Epoch 5/100\n",
            "5/5 [==============================] - 0s 24ms/step - loss: 0.0551 - val_loss: 0.0532\n",
            "Epoch 6/100\n",
            "5/5 [==============================] - 0s 23ms/step - loss: 0.0491 - val_loss: 0.0490\n",
            "Epoch 7/100\n",
            "5/5 [==============================] - 0s 32ms/step - loss: 0.0435 - val_loss: 0.0458\n",
            "Epoch 8/100\n",
            "5/5 [==============================] - 0s 14ms/step - loss: 0.0385 - val_loss: 0.0418\n",
            "Epoch 9/100\n",
            "5/5 [==============================] - 0s 13ms/step - loss: 0.0339 - val_loss: 0.0385\n",
            "Epoch 10/100\n",
            "5/5 [==============================] - 0s 17ms/step - loss: 0.0301 - val_loss: 0.0370\n",
            "Epoch 11/100\n",
            "5/5 [==============================] - 0s 23ms/step - loss: 0.0273 - val_loss: 0.0344\n",
            "Epoch 12/100\n",
            "5/5 [==============================] - 0s 40ms/step - loss: 0.0249 - val_loss: 0.0327\n",
            "Epoch 13/100\n",
            "5/5 [==============================] - 0s 25ms/step - loss: 0.0227 - val_loss: 0.0309\n",
            "Epoch 14/100\n",
            "5/5 [==============================] - 0s 28ms/step - loss: 0.0210 - val_loss: 0.0303\n",
            "Epoch 15/100\n",
            "5/5 [==============================] - 0s 37ms/step - loss: 0.0196 - val_loss: 0.0293\n",
            "Epoch 16/100\n",
            "5/5 [==============================] - 0s 24ms/step - loss: 0.0186 - val_loss: 0.0286\n",
            "Epoch 17/100\n",
            "5/5 [==============================] - 0s 40ms/step - loss: 0.0175 - val_loss: 0.0275\n",
            "Epoch 18/100\n",
            "5/5 [==============================] - 0s 19ms/step - loss: 0.0170 - val_loss: 0.0268\n",
            "Epoch 19/100\n",
            "5/5 [==============================] - 0s 30ms/step - loss: 0.0160 - val_loss: 0.0265\n",
            "Epoch 20/100\n",
            "5/5 [==============================] - 0s 32ms/step - loss: 0.0156 - val_loss: 0.0263\n",
            "Epoch 21/100\n",
            "5/5 [==============================] - 0s 27ms/step - loss: 0.0154 - val_loss: 0.0258\n",
            "Epoch 22/100\n",
            "5/5 [==============================] - 0s 21ms/step - loss: 0.0146 - val_loss: 0.0253\n",
            "Epoch 23/100\n",
            "5/5 [==============================] - 0s 27ms/step - loss: 0.0143 - val_loss: 0.0247\n",
            "Epoch 24/100\n",
            "5/5 [==============================] - 0s 24ms/step - loss: 0.0137 - val_loss: 0.0241\n",
            "Epoch 25/100\n",
            "5/5 [==============================] - 0s 43ms/step - loss: 0.0137 - val_loss: 0.0242\n",
            "Epoch 26/100\n",
            "5/5 [==============================] - 0s 24ms/step - loss: 0.0132 - val_loss: 0.0241\n",
            "Epoch 27/100\n",
            "5/5 [==============================] - 0s 24ms/step - loss: 0.0131 - val_loss: 0.0241\n",
            "Epoch 28/100\n",
            "5/5 [==============================] - 0s 26ms/step - loss: 0.0126 - val_loss: 0.0233\n",
            "Epoch 29/100\n",
            "5/5 [==============================] - 0s 33ms/step - loss: 0.0125 - val_loss: 0.0236\n",
            "Epoch 30/100\n",
            "5/5 [==============================] - 0s 33ms/step - loss: 0.0122 - val_loss: 0.0232\n",
            "Epoch 31/100\n",
            "5/5 [==============================] - 0s 26ms/step - loss: 0.0119 - val_loss: 0.0233\n",
            "Epoch 32/100\n",
            "5/5 [==============================] - 0s 42ms/step - loss: 0.0116 - val_loss: 0.0225\n",
            "Epoch 33/100\n",
            "5/5 [==============================] - 0s 25ms/step - loss: 0.0116 - val_loss: 0.0228\n",
            "Epoch 34/100\n",
            "5/5 [==============================] - 0s 27ms/step - loss: 0.0112 - val_loss: 0.0223\n",
            "Epoch 35/100\n",
            "5/5 [==============================] - 0s 21ms/step - loss: 0.0112 - val_loss: 0.0225\n",
            "Epoch 36/100\n",
            "5/5 [==============================] - 0s 32ms/step - loss: 0.0108 - val_loss: 0.0219\n",
            "Epoch 37/100\n",
            "5/5 [==============================] - 0s 28ms/step - loss: 0.0107 - val_loss: 0.0223\n",
            "Epoch 38/100\n",
            "5/5 [==============================] - 0s 26ms/step - loss: 0.0105 - val_loss: 0.0217\n",
            "Epoch 39/100\n",
            "5/5 [==============================] - 0s 27ms/step - loss: 0.0102 - val_loss: 0.0221\n",
            "Epoch 40/100\n",
            "5/5 [==============================] - 0s 25ms/step - loss: 0.0101 - val_loss: 0.0215\n",
            "Epoch 41/100\n",
            "5/5 [==============================] - 0s 41ms/step - loss: 0.0099 - val_loss: 0.0214\n",
            "Epoch 42/100\n",
            "5/5 [==============================] - 0s 13ms/step - loss: 0.0097 - val_loss: 0.0215\n",
            "Epoch 43/100\n",
            "5/5 [==============================] - 0s 14ms/step - loss: 0.0094 - val_loss: 0.0210\n",
            "Epoch 44/100\n",
            "5/5 [==============================] - 0s 23ms/step - loss: 0.0093 - val_loss: 0.0212\n",
            "Epoch 45/100\n",
            "5/5 [==============================] - 0s 16ms/step - loss: 0.0092 - val_loss: 0.0209\n",
            "Epoch 46/100\n",
            "5/5 [==============================] - 0s 24ms/step - loss: 0.0089 - val_loss: 0.0209\n",
            "Epoch 47/100\n",
            "5/5 [==============================] - 0s 27ms/step - loss: 0.0089 - val_loss: 0.0210\n",
            "Epoch 48/100\n",
            "5/5 [==============================] - 0s 14ms/step - loss: 0.0086 - val_loss: 0.0208\n",
            "Epoch 49/100\n",
            "5/5 [==============================] - 0s 12ms/step - loss: 0.0085 - val_loss: 0.0206\n",
            "Epoch 50/100\n",
            "5/5 [==============================] - 0s 13ms/step - loss: 0.0084 - val_loss: 0.0207\n",
            "Epoch 51/100\n",
            "5/5 [==============================] - 0s 20ms/step - loss: 0.0082 - val_loss: 0.0207\n",
            "Epoch 52/100\n",
            "5/5 [==============================] - 0s 24ms/step - loss: 0.0082 - val_loss: 0.0207\n",
            "Epoch 53/100\n",
            "5/5 [==============================] - 0s 21ms/step - loss: 0.0080 - val_loss: 0.0203\n",
            "Epoch 54/100\n",
            "5/5 [==============================] - 0s 35ms/step - loss: 0.0078 - val_loss: 0.0206\n",
            "Epoch 55/100\n",
            "5/5 [==============================] - 0s 29ms/step - loss: 0.0077 - val_loss: 0.0204\n",
            "Epoch 56/100\n",
            "5/5 [==============================] - 0s 51ms/step - loss: 0.0076 - val_loss: 0.0205\n",
            "Epoch 57/100\n",
            "5/5 [==============================] - 0s 29ms/step - loss: 0.0075 - val_loss: 0.0202\n",
            "Epoch 58/100\n",
            "5/5 [==============================] - 0s 25ms/step - loss: 0.0074 - val_loss: 0.0204\n",
            "Epoch 59/100\n",
            "5/5 [==============================] - 0s 52ms/step - loss: 0.0074 - val_loss: 0.0206\n",
            "Epoch 60/100\n",
            "5/5 [==============================] - 0s 27ms/step - loss: 0.0072 - val_loss: 0.0205\n",
            "Epoch 61/100\n",
            "5/5 [==============================] - 0s 29ms/step - loss: 0.0072 - val_loss: 0.0205\n",
            "Epoch 62/100\n",
            "5/5 [==============================] - 0s 39ms/step - loss: 0.0071 - val_loss: 0.0205\n",
            "Epoch 63/100\n",
            "5/5 [==============================] - 0s 27ms/step - loss: 0.0071 - val_loss: 0.0204\n",
            "Epoch 64/100\n",
            "5/5 [==============================] - 0s 23ms/step - loss: 0.0070 - val_loss: 0.0204\n",
            "Epoch 65/100\n",
            "5/5 [==============================] - 0s 29ms/step - loss: 0.0069 - val_loss: 0.0205\n",
            "Epoch 66/100\n",
            "5/5 [==============================] - 0s 56ms/step - loss: 0.0069 - val_loss: 0.0204\n",
            "Epoch 67/100\n",
            "5/5 [==============================] - 0s 30ms/step - loss: 0.0069 - val_loss: 0.0205\n",
            "Epoch 68/100\n",
            "5/5 [==============================] - 0s 26ms/step - loss: 0.0070 - val_loss: 0.0204\n",
            "Epoch 69/100\n",
            "5/5 [==============================] - 0s 31ms/step - loss: 0.0069 - val_loss: 0.0204\n",
            "Epoch 70/100\n",
            "5/5 [==============================] - 0s 33ms/step - loss: 0.0068 - val_loss: 0.0203\n",
            "Epoch 71/100\n",
            "5/5 [==============================] - 0s 31ms/step - loss: 0.0068 - val_loss: 0.0203\n",
            "Epoch 72/100\n",
            "5/5 [==============================] - 0s 33ms/step - loss: 0.0068 - val_loss: 0.0203\n",
            "Epoch 73/100\n",
            "5/5 [==============================] - 0s 42ms/step - loss: 0.0068 - val_loss: 0.0203\n",
            "Epoch 74/100\n",
            "5/5 [==============================] - 0s 35ms/step - loss: 0.0067 - val_loss: 0.0203\n",
            "Epoch 75/100\n",
            "5/5 [==============================] - 0s 25ms/step - loss: 0.0068 - val_loss: 0.0204\n",
            "Epoch 76/100\n",
            "5/5 [==============================] - 0s 46ms/step - loss: 0.0068 - val_loss: 0.0202\n",
            "Epoch 77/100\n",
            "5/5 [==============================] - 0s 30ms/step - loss: 0.0067 - val_loss: 0.0203\n",
            "Epoch 78/100\n",
            "5/5 [==============================] - 0s 26ms/step - loss: 0.0068 - val_loss: 0.0203\n",
            "Epoch 79/100\n",
            "5/5 [==============================] - 0s 26ms/step - loss: 0.0067 - val_loss: 0.0202\n",
            "Epoch 80/100\n",
            "5/5 [==============================] - 0s 34ms/step - loss: 0.0067 - val_loss: 0.0202\n",
            "Epoch 81/100\n",
            "5/5 [==============================] - 0s 38ms/step - loss: 0.0067 - val_loss: 0.0203\n",
            "Epoch 82/100\n",
            "5/5 [==============================] - 0s 30ms/step - loss: 0.0067 - val_loss: 0.0202\n",
            "Epoch 83/100\n",
            "5/5 [==============================] - 0s 59ms/step - loss: 0.0066 - val_loss: 0.0200\n",
            "Epoch 84/100\n",
            "5/5 [==============================] - 0s 48ms/step - loss: 0.0067 - val_loss: 0.0201\n",
            "Epoch 85/100\n",
            "5/5 [==============================] - 0s 42ms/step - loss: 0.0066 - val_loss: 0.0200\n",
            "Epoch 86/100\n",
            "5/5 [==============================] - 0s 15ms/step - loss: 0.0066 - val_loss: 0.0202\n",
            "Epoch 87/100\n",
            "5/5 [==============================] - 0s 15ms/step - loss: 0.0066 - val_loss: 0.0201\n",
            "Epoch 88/100\n",
            "5/5 [==============================] - 0s 28ms/step - loss: 0.0065 - val_loss: 0.0202\n",
            "Epoch 89/100\n",
            "5/5 [==============================] - 0s 25ms/step - loss: 0.0066 - val_loss: 0.0201\n",
            "Epoch 90/100\n",
            "5/5 [==============================] - 0s 34ms/step - loss: 0.0066 - val_loss: 0.0200\n",
            "Epoch 91/100\n",
            "5/5 [==============================] - 0s 25ms/step - loss: 0.0066 - val_loss: 0.0202\n",
            "Epoch 92/100\n",
            "5/5 [==============================] - 0s 31ms/step - loss: 0.0065 - val_loss: 0.0202\n",
            "Epoch 93/100\n",
            "5/5 [==============================] - 0s 45ms/step - loss: 0.0065 - val_loss: 0.0199\n",
            "Epoch 94/100\n",
            "5/5 [==============================] - 0s 31ms/step - loss: 0.0064 - val_loss: 0.0199\n",
            "Epoch 95/100\n",
            "5/5 [==============================] - 0s 20ms/step - loss: 0.0064 - val_loss: 0.0198\n",
            "Epoch 96/100\n",
            "5/5 [==============================] - 0s 37ms/step - loss: 0.0064 - val_loss: 0.0199\n",
            "Epoch 97/100\n",
            "5/5 [==============================] - 0s 34ms/step - loss: 0.0064 - val_loss: 0.0196\n",
            "Epoch 98/100\n",
            "5/5 [==============================] - 0s 22ms/step - loss: 0.0065 - val_loss: 0.0198\n",
            "Epoch 99/100\n",
            "5/5 [==============================] - 0s 39ms/step - loss: 0.0064 - val_loss: 0.0198\n",
            "Epoch 100/100\n",
            "5/5 [==============================] - 0s 35ms/step - loss: 0.0063 - val_loss: 0.0197\n"
          ]
        }
      ]
    },
    {
      "cell_type": "markdown",
      "source": [
        "Plotting the training and validation loss for each epoch of training:"
      ],
      "metadata": {
        "id": "hgY-z8RTZlIT"
      }
    },
    {
      "cell_type": "code",
      "source": [
        "plt.plot(history.history[\"loss\"], label=\"Training Loss\")\n",
        "plt.plot(history.history[\"val_loss\"], label=\"Validation Loss\")\n",
        "plt.legend()"
      ],
      "metadata": {
        "id": "wuoQevDPlMUa",
        "colab": {
          "base_uri": "https://localhost:8080/",
          "height": 285
        },
        "outputId": "33cada61-eb51-4b4d-f868-f13d608b5bcb"
      },
      "execution_count": 9,
      "outputs": [
        {
          "output_type": "execute_result",
          "data": {
            "text/plain": [
              "<matplotlib.legend.Legend at 0x7f99b53e9390>"
            ]
          },
          "metadata": {},
          "execution_count": 9
        },
        {
          "output_type": "display_data",
          "data": {
            "text/plain": [
              "<Figure size 432x288 with 1 Axes>"
            ],
            "image/png": "[encoded data removed]"
          },
          "metadata": {
            "needs_background": "light"
          }
        }
      ]
    },
    {
      "cell_type": "markdown",
      "source": [
        "Plotting a normal ECG from the training set, the reconstruction after it's encoded and decoded by the autoencoder, and the reconstruction error."
      ],
      "metadata": {
        "id": "p60CoHSmZn0W"
      }
    },
    {
      "cell_type": "code",
      "source": [
        "_, _, _, _, _, codings = variational_encoder(normal_test_data)\n",
        "decoded_imgs = variational_decoder(codings)\n",
        "\n",
        "plt.plot(normal_test_data[0],'b')\n",
        "plt.plot(decoded_imgs[0],'r')\n",
        "plt.fill_between(np.arange(140), decoded_imgs[0], normal_test_data[0], color='lightcoral' )\n",
        "plt.legend(labels=[\"Input\", \"Reconstruction\", \"Error\"])\n",
        "plt.show()"
      ],
      "metadata": {
        "colab": {
          "base_uri": "https://localhost:8080/",
          "height": 265
        },
        "id": "f9VumW40gY-0",
        "outputId": "a387cf5d-0585-4d5f-dec9-157588485576"
      },
      "execution_count": 10,
      "outputs": [
        {
          "output_type": "display_data",
          "data": {
            "text/plain": [
              "<Figure size 432x288 with 1 Axes>"
            ],
            "image/png": "[encoded data removed]"
          },
          "metadata": {
            "needs_background": "light"
          }
        }
      ]
    },
    {
      "cell_type": "markdown",
      "source": [
        "Now, we will do the same for the anomalous data:"
      ],
      "metadata": {
        "id": "nEYGvDylZpif"
      }
    },
    {
      "cell_type": "code",
      "source": [
        "_, _, _, _, _, codings = variational_encoder(anomalous_test_data)\n",
        "decoded_imgs = variational_decoder(codings)\n",
        "\n",
        "plt.plot(normal_test_data[0],'b')\n",
        "plt.plot(decoded_imgs[0],'r')\n",
        "plt.fill_between(np.arange(140), decoded_imgs[0], normal_test_data[0], color='lightcoral' )\n",
        "plt.legend(labels=[\"Input\", \"Reconstruction\", \"Error\"])\n",
        "plt.show()"
      ],
      "metadata": {
        "colab": {
          "base_uri": "https://localhost:8080/",
          "height": 265
        },
        "id": "dmh2FybLXKYS",
        "outputId": "8d363c1a-cef2-4526-d47a-3cc875efe30f"
      },
      "execution_count": 11,
      "outputs": [
        {
          "output_type": "display_data",
          "data": {
            "text/plain": [
              "<Figure size 432x288 with 1 Axes>"
            ],
            "image/png": "[encoded data removed]"
          },
          "metadata": {
            "needs_background": "light"
          }
        }
      ]
    },
    {
      "cell_type": "markdown",
      "source": [
        "Here will compute the normal/abnormal train/validation loss from the model using mean absolute error."
      ],
      "metadata": {
        "id": "GTSKvIJMpAiP"
      }
    },
    {
      "cell_type": "code",
      "source": [
        "# Normal reconstructions\n",
        "reconstructions_train = variational_ae.predict(normal_train_data)\n",
        "train_loss = tf.keras.losses.mae(reconstructions_train, normal_train_data)\n",
        "reconstructions_valid = variational_ae.predict(normal_valid_data)\n",
        "valid_loss = tf.keras.losses.mae(reconstructions_valid, normal_valid_data)\n",
        "# Abnormal reconstructions\n",
        "ab_reconstructions_train = variational_ae.predict(anomalous_train_data)\n",
        "ab_train_loss = tf.keras.losses.mae(ab_reconstructions_train, anomalous_train_data)\n",
        "ab_reconstructions_valid = variational_ae.predict(anomalous_valid_data)\n",
        "ab_valid_loss = tf.keras.losses.mae(ab_reconstructions_valid, anomalous_valid_data)"
      ],
      "metadata": {
        "id": "4b_L10vZpCSH"
      },
      "execution_count": 12,
      "outputs": []
    },
    {
      "cell_type": "markdown",
      "source": [
        "Defining a function predict which takes the model, data, and threshold. Computes the reconstruction loss and returns the truthy value for all elements if they are less than the threshold (True)."
      ],
      "metadata": {
        "id": "rmfu-OXppG7f"
      }
    },
    {
      "cell_type": "code",
      "source": [
        "def predict(model, data, threshold):\n",
        "  reconstructions = model.predict(data)\n",
        "  loss = tf.keras.losses.mae(reconstructions, data)\n",
        "  return tf.math.less(loss, threshold)"
      ],
      "metadata": {
        "id": "xbVs5DPnpHus"
      },
      "execution_count": 13,
      "outputs": []
    },
    {
      "cell_type": "markdown",
      "source": [
        "Computing the abnormal/normal mean of the validation loss"
      ],
      "metadata": {
        "id": "kPmsewS2pJID"
      }
    },
    {
      "cell_type": "code",
      "source": [
        "abnormal_valid_mean_loss = np.mean(ab_valid_loss)\n",
        "normal_valid_mean_loss = np.mean(valid_loss)"
      ],
      "metadata": {
        "id": "oNtL4nOBpK91"
      },
      "execution_count": 14,
      "outputs": []
    },
    {
      "cell_type": "markdown",
      "source": [
        "Computing 100 different thresholds that start at the normal threshold and end at the abnormal threshold incrementing by their difference divided by 100."
      ],
      "metadata": {
        "id": "0eMcYErWpMoG"
      }
    },
    {
      "cell_type": "code",
      "source": [
        "increment = (abnormal_valid_mean_loss - normal_valid_mean_loss)/100\n",
        "thresholds = np.arange(normal_valid_mean_loss, abnormal_valid_mean_loss, \n",
        "increment)"
      ],
      "metadata": {
        "id": "i_Ku4XWbpOIf"
      },
      "execution_count": 15,
      "outputs": []
    },
    {
      "cell_type": "markdown",
      "source": [
        "Creating a numpy array to store the accuracy for each of the different threshold values."
      ],
      "metadata": {
        "id": "04N13JQrpP5U"
      }
    },
    {
      "cell_type": "code",
      "source": [
        "thresh_size = thresholds.shape[0]\n",
        "accuracies = np.zeros(thresh_size)"
      ],
      "metadata": {
        "id": "M6F7ZyACpRiQ"
      },
      "execution_count": 16,
      "outputs": []
    },
    {
      "cell_type": "markdown",
      "source": [
        "Calculation of the threshold that gives the best accuracy on the validation data. This is done by going through all thresholds and testing the accuracy of the model with each threshold."
      ],
      "metadata": {
        "id": "foBluqoApTZK"
      }
    },
    {
      "cell_type": "code",
      "source": [
        "for i in range(thresh_size):\n",
        "  preds = predict(variational_ae, valid_data, thresholds[i])\n",
        "  accuracies[i] = accuracy_score(preds, valid_labels)"
      ],
      "metadata": {
        "id": "9hucFvArpXFu"
      },
      "execution_count": 17,
      "outputs": []
    },
    {
      "cell_type": "markdown",
      "source": [
        "Setting the threshold to the one in thresholds which gave the best accuracy."
      ],
      "metadata": {
        "id": "o9HgPfVZpY5J"
      }
    },
    {
      "cell_type": "code",
      "source": [
        "argmax = np.argmax(accuracies)\n",
        "best_threshold = thresholds[argmax]\n",
        "print(\"The best threshold based on validation data: \", best_threshold)"
      ],
      "metadata": {
        "colab": {
          "base_uri": "https://localhost:8080/",
          "height": 0
        },
        "id": "49UMwuqepavl",
        "outputId": "ca36846a-5ae1-4c53-d800-f18c1e9d69a6"
      },
      "execution_count": 18,
      "outputs": [
        {
          "output_type": "stream",
          "name": "stdout",
          "text": [
            "The best threshold based on validation data:  0.036079626809805705\n"
          ]
        }
      ]
    },
    {
      "cell_type": "markdown",
      "source": [
        "We now detect anomalies by calculating whether the reconstruction loss is greater than a fixed threshold we just computed. We then will classify future examples as anomalous if the reconstruction error is higher than this threshold.\n",
        "\n",
        "Plotting the reconstruction error on all ECGs from the training set"
      ],
      "metadata": {
        "id": "h7bH3kXPpdKX"
      }
    },
    {
      "cell_type": "code",
      "source": [
        "reconstructions = variational_ae.predict(train_data)\n",
        "train_loss = tf.keras.losses.mae(reconstructions, train_data)\n",
        "plt.figure(figsize=(20,5))\n",
        "plt.hist(train_loss[None,:], bins=100)\n",
        "plt.axvline(best_threshold, c='r')\n",
        "plt.xlabel(\"MAE reconstruction loss of the train data\")\n",
        "plt.ylabel(\"No of examples\")\n",
        "plt.show()"
      ],
      "metadata": {
        "colab": {
          "base_uri": "https://localhost:8080/",
          "height": 191
        },
        "id": "6fZc5i7qpfMh",
        "outputId": "777d4a31-b51f-4bd8-ce00-838af6997f7f"
      },
      "execution_count": 19,
      "outputs": [
        {
          "output_type": "display_data",
          "data": {
            "text/plain": [
              "<Figure size 1440x360 with 1 Axes>"
            ],
            "image/png": "[encoded data removed]"
          },
          "metadata": {
            "needs_background": "light"
          }
        }
      ]
    },
    {
      "cell_type": "markdown",
      "source": [
        "Plotting the reconstruction error on all ECGs from the validation set"
      ],
      "metadata": {
        "id": "D-h4NGM2pgip"
      }
    },
    {
      "cell_type": "code",
      "source": [
        "reconstructions = variational_ae.predict(valid_data)\n",
        "valid_loss = tf.keras.losses.mae(reconstructions, valid_data)\n",
        "plt.figure(figsize=(20,5))\n",
        "plt.hist(valid_loss[None,:], bins=100)\n",
        "plt.axvline(best_threshold, c='r')\n",
        "plt.xlabel(\"MAE reconstruction loss of the validation data\")\n",
        "plt.ylabel(\"No of examples\")\n",
        "plt.show()"
      ],
      "metadata": {
        "colab": {
          "base_uri": "https://localhost:8080/",
          "height": 192
        },
        "id": "LMAJ_e_BpiuD",
        "outputId": "9a90a8ed-182d-4240-a082-e87938eb53a8"
      },
      "execution_count": 20,
      "outputs": [
        {
          "output_type": "display_data",
          "data": {
            "text/plain": [
              "<Figure size 1440x360 with 1 Axes>"
            ],
            "image/png": "[encoded data removed]"
          },
          "metadata": {
            "needs_background": "light"
          }
        }
      ]
    },
    {
      "cell_type": "markdown",
      "source": [
        "Plotting the reconstruction error on all ECGs from the test set"
      ],
      "metadata": {
        "id": "torrvwRXpkC1"
      }
    },
    {
      "cell_type": "code",
      "source": [
        "reconstructions = variational_ae.predict(test_data)\n",
        "test_loss = tf.keras.losses.mae(reconstructions, test_data)\n",
        "plt.figure(figsize=(20,5))\n",
        "plt.hist(test_loss[None,:], bins=100)\n",
        "plt.axvline(best_threshold, c='r')\n",
        "plt.xlabel(\"MAE reconstruction loss of the test data\")\n",
        "plt.ylabel(\"No of examples\")\n",
        "plt.show()"
      ],
      "metadata": {
        "colab": {
          "base_uri": "https://localhost:8080/",
          "height": 192
        },
        "id": "aTMXLjBapmQa",
        "outputId": "78b2cdfc-d78c-4f9e-da4a-2f696eb45438"
      },
      "execution_count": 21,
      "outputs": [
        {
          "output_type": "display_data",
          "data": {
            "text/plain": [
              "<Figure size 1440x360 with 1 Axes>"
            ],
            "image/png": "[encoded data removed]"
          },
          "metadata": {
            "needs_background": "light"
          }
        }
      ]
    },
    {
      "cell_type": "markdown",
      "source": [
        "Classify an ECG as an anomaly if the reconstruction error is greater than the threshold."
      ],
      "metadata": {
        "id": "0x5wT6rlpoDM"
      }
    },
    {
      "cell_type": "code",
      "source": [
        "def print_stats(predictions, labels, model, data):\n",
        "  cf = confusion_matrix(labels, predictions)\n",
        "  print(\"Confusion Matrix: \\n prediction: F      T \")\n",
        "  print(\"             {}   {}\".format(preds[preds == False].shape[0], preds[preds == True].shape[0]))\n",
        "  print(\" label: F   [[{}   {}]    {}\".format(cf[0,0], cf[0,1], labels[labels == False].shape[0]))\n",
        "  print(\"        T    [{}   {}]]   {}\".format(cf[1,0], cf[1,1], labels[labels == True].shape[0]))\n",
        "  print(\"Accuracy = {}\".format(accuracy_score(labels, predictions)))\n",
        "  reconstructions = model.predict(data[labels])\n",
        "  nl_test_loss =  tf.keras.losses.mae(reconstructions, data[labels])\n",
        "  print(\"Normal Test Data Mean = {}\".format(np.mean(nl_test_loss)))\n",
        "  print(\"Normal Test Data Standard Deviation = {}\".format(np.std(nl_test_loss)))\n",
        "  reconstructions = model.predict(data[~labels])\n",
        "  ab_test_loss =  tf.keras.losses.mae(reconstructions, data[~labels])\n",
        "  print(\"Abnormal Test Data Mean = {}\".format(np.mean(ab_test_loss)))\n",
        "  print(\"Abnormal Test Data Standard Deviation = {}\".format(np.std(ab_test_loss)))\n",
        "  print(\"Precision = {}\".format(precision_score(labels, predictions)))\n",
        "  print(\"Recall = {}\".format(recall_score(labels, predictions)))"
      ],
      "metadata": {
        "id": "y4zQyGnYpqRt"
      },
      "execution_count": 22,
      "outputs": []
    },
    {
      "cell_type": "code",
      "source": [
        "thr_acc = np.zeros((thresh_size, 2))\n",
        "thr_acc[:, 0] = thresholds\n",
        "thr_acc[:, 1] = accuracies\n",
        "thr_acc[argmax - 2 : argmax + 3]"
      ],
      "metadata": {
        "colab": {
          "base_uri": "https://localhost:8080/",
          "height": 0
        },
        "id": "4ro_VnNcpsrB",
        "outputId": "88b2809c-5574-4b27-ba2d-00caa0d9cba4"
      },
      "execution_count": 23,
      "outputs": [
        {
          "output_type": "execute_result",
          "data": {
            "text/plain": [
              "array([[0.03550995, 0.9425    ],\n",
              "       [0.03579479, 0.9425    ],\n",
              "       [0.03607963, 0.95      ],\n",
              "       [0.03636446, 0.9425    ],\n",
              "       [0.0366493 , 0.94      ]])"
            ]
          },
          "metadata": {},
          "execution_count": 23
        }
      ]
    },
    {
      "cell_type": "markdown",
      "source": [
        "Calculation of the accuracy and the confusion matrix on the test data with threshold set based on the best threshold from the validation data"
      ],
      "metadata": {
        "id": "RgcA_1Hfpv5d"
      }
    },
    {
      "cell_type": "code",
      "source": [
        "preds = predict(variational_ae, test_data, best_threshold)\n",
        "print_stats(preds, test_labels, variational_ae, test_data)"
      ],
      "metadata": {
        "colab": {
          "base_uri": "https://localhost:8080/",
          "height": 0
        },
        "id": "9K9LJBHApxBA",
        "outputId": "8c0f9e7c-24a3-4f82-de3a-a1683d789d5f"
      },
      "execution_count": 24,
      "outputs": [
        {
          "output_type": "stream",
          "name": "stdout",
          "text": [
            "Confusion Matrix: \n",
            " prediction: F      T \n",
            "             465   535\n",
            " label: F   [[431   9]    440\n",
            "        T    [34   526]]   560\n",
            "Accuracy = 0.957\n",
            "Normal Test Data Mean = 0.020130768418312073\n",
            "Normal Test Data Standard Deviation = 0.011523047462105751\n",
            "Abnormal Test Data Mean = 0.049706559628248215\n",
            "Abnormal Test Data Standard Deviation = 0.008373000659048557\n",
            "Precision = 0.983177570093458\n",
            "Recall = 0.9392857142857143\n"
          ]
        }
      ]
    },
    {
      "cell_type": "code",
      "source": [
        "accuracy = (\n",
        "    0.954 +\n",
        "    0.955 +\n",
        "    0.956 +\n",
        "    0.955 +\n",
        "    0.957 +\n",
        "    0.952 +\n",
        "    0.961 +\n",
        "    0.951 +\n",
        "    0.961 +\n",
        "    0.957\n",
        ")/10.\n",
        "round(accuracy, 4)"
      ],
      "metadata": {
        "colab": {
          "base_uri": "https://localhost:8080/"
        },
        "id": "DAFVVGYqp0UD",
        "outputId": "fe5aea2d-e441-4f5d-ffb3-ddc8f17223ef"
      },
      "execution_count": 26,
      "outputs": [
        {
          "output_type": "execute_result",
          "data": {
            "text/plain": [
              "0.9559"
            ]
          },
          "metadata": {},
          "execution_count": 26
        }
      ]
    },
    {
      "cell_type": "code",
      "source": [
        "norm_mean = (\n",
        "    0.019636353477835655 +\n",
        "    0.02005980722606182 +\n",
        "    0.01881108060479164 +\n",
        "    0.02016635611653328 +\n",
        "    0.019585199654102325 +\n",
        "    0.01957651600241661 +\n",
        "    0.019055575132369995 +\n",
        "    0.01918996311724186 +\n",
        "    0.01910126581788063 +\n",
        "    0.020130768418312073\n",
        ")/10.\n",
        "round(norm_mean, 4)"
      ],
      "metadata": {
        "colab": {
          "base_uri": "https://localhost:8080/"
        },
        "id": "WD4xTNbvp1rk",
        "outputId": "3d0acfeb-c858-4531-e688-242010fe2a2e"
      },
      "execution_count": 27,
      "outputs": [
        {
          "output_type": "execute_result",
          "data": {
            "text/plain": [
              "0.0195"
            ]
          },
          "metadata": {},
          "execution_count": 27
        }
      ]
    },
    {
      "cell_type": "code",
      "source": [
        "norm_sd = (\n",
        "    0.011443750001490116 +\n",
        "    0.012063581496477127 +\n",
        "    0.010336147621273994 +\n",
        "    0.011501064524054527 +\n",
        "    0.010753748007118702 +\n",
        "    0.010924983769655228 +\n",
        "    0.010787040926516056 +\n",
        "    0.01048373430967331 +\n",
        "    0.010355845093727112 +\n",
        "    0.011523047462105751\n",
        ")/10.\n",
        "round(norm_sd, 4)"
      ],
      "metadata": {
        "colab": {
          "base_uri": "https://localhost:8080/"
        },
        "id": "kSKc3pbNp3bL",
        "outputId": "d0b7d0cc-a042-4766-d455-92ce24f04f31"
      },
      "execution_count": 28,
      "outputs": [
        {
          "output_type": "execute_result",
          "data": {
            "text/plain": [
              "0.011"
            ]
          },
          "metadata": {},
          "execution_count": 28
        }
      ]
    },
    {
      "cell_type": "code",
      "source": [
        "ab_mean = (\n",
        "    0.049742575734853745 +\n",
        "    0.051910556852817535 +\n",
        "    0.048558760434389114 +\n",
        "    0.050863709300756454 +\n",
        "    0.04814401641488075 +\n",
        "    0.048067908734083176 +\n",
        "    0.047783125191926956 +\n",
        "    0.046865314245224 +\n",
        "    0.048855870962142944 +\n",
        "    0.049706559628248215\n",
        ")/10.\n",
        "round(ab_mean, 4)"
      ],
      "metadata": {
        "colab": {
          "base_uri": "https://localhost:8080/"
        },
        "id": "AT5NjUNOp5B_",
        "outputId": "9d83fa77-7d53-4369-ba36-c8cf0dacec18"
      },
      "execution_count": 29,
      "outputs": [
        {
          "output_type": "execute_result",
          "data": {
            "text/plain": [
              "0.049"
            ]
          },
          "metadata": {},
          "execution_count": 29
        }
      ]
    },
    {
      "cell_type": "code",
      "source": [
        "ab_sd = (\n",
        "    0.008206172846257687 +\n",
        "    0.008409267291426659 +\n",
        "    0.008033203892409801 +\n",
        "    0.008009366691112518 +\n",
        "    0.007959328591823578 +\n",
        "    0.008197715505957603 +\n",
        "    0.007733700796961784 +\n",
        "    0.007659011986106634 +\n",
        "    0.007910960353910923 +\n",
        "    0.008373000659048557\n",
        ")/10.\n",
        "round(ab_sd, 4)"
      ],
      "metadata": {
        "colab": {
          "base_uri": "https://localhost:8080/"
        },
        "id": "eC5fmE37p7IZ",
        "outputId": "b22606b7-e434-4b4d-8853-f55207911e40"
      },
      "execution_count": 30,
      "outputs": [
        {
          "output_type": "execute_result",
          "data": {
            "text/plain": [
              "0.008"
            ]
          },
          "metadata": {},
          "execution_count": 30
        }
      ]
    },
    {
      "cell_type": "code",
      "source": [
        ""
      ],
      "metadata": {
        "id": "aeunJhVNuF6v"
      },
      "execution_count": null,
      "outputs": []
    }
  ]
}