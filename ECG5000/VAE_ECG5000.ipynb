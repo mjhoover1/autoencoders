{
  "nbformat": 4,
  "nbformat_minor": 0,
  "metadata": {
    "colab": {
      "name": "VAE_ECG5000.ipynb",
      "provenance": [],
      "collapsed_sections": []
    },
    "kernelspec": {
      "name": "python3",
      "display_name": "Python 3"
    },
    "language_info": {
      "name": "python"
    },
    "accelerator": "GPU"
  },
  "cells": [
    {
      "cell_type": "markdown",
      "source": [
        "References: Chapter 17 of Geron's book. For 1-Dim plots, Keras tutorial : https://www.tensorflow.org/tutorials/generative/autoencoder\n",
        "\n",
        "This file trains a VAE with the instances of the normal ECGs in the training data. Then, it measures the reconstruction loss for the ECGs in the test data. The reconstruction loss for the instances of the abnormal ECGs in the test data is higher. A threshold is determined based on the distribution of the reconstruction losses of the normal training data (threshold = mean + 2.5*std of this distribution). Then, if the reconstruction loss of a ECG in the test data is higher than this threshold, it is classified as abnormal. By comparing with the known labels of test data (with T for normal ECG(s) and F for abnormal ECG(s)), the confusion matrix and the accuracy is calculated."
      ],
      "metadata": {
        "id": "VVE8UchZiHuY"
      }
    },
    {
      "cell_type": "markdown",
      "source": [
        "Import the necessary libraries:"
      ],
      "metadata": {
        "id": "puep1aZLiZ15"
      }
    },
    {
      "cell_type": "code",
      "source": [
        "import matplotlib.pyplot as plt\n",
        "import numpy as np\n",
        "import pandas as pd\n",
        "import tensorflow as tf\n",
        "from tensorflow import keras\n",
        "\n",
        "from sklearn.metrics import accuracy_score, precision_score, recall_score, confusion_matrix\n",
        "from sklearn.model_selection import train_test_split\n",
        "from keras import layers, losses\n",
        "from keras.models import Model"
      ],
      "metadata": {
        "id": "6E1BGLJkiMw-"
      },
      "execution_count": 23,
      "outputs": []
    },
    {
      "cell_type": "markdown",
      "source": [
        "Loading the ECG5000 data:"
      ],
      "metadata": {
        "id": "1Hg2oBfyir01"
      }
    },
    {
      "cell_type": "code",
      "source": [
        "# Download the dataset\n",
        "dataframe = pd.read_csv('http://storage.googleapis.com/download.tensorflow.org/data/ecg.csv', header=None)\n",
        "raw_data = dataframe.values\n",
        "dataframe.head()"
      ],
      "metadata": {
        "colab": {
          "base_uri": "https://localhost:8080/",
          "height": 299
        },
        "id": "sVZpYTd9ioKo",
        "outputId": "b0fa96e7-046c-481c-9e82-dc5e2a76ac2a"
      },
      "execution_count": 24,
      "outputs": [
        {
          "output_type": "execute_result",
          "data": {
            "text/plain": [
              "        0         1         2         3         4         5         6    \\\n",
              "0 -0.112522 -2.827204 -3.773897 -4.349751 -4.376041 -3.474986 -2.181408   \n",
              "1 -1.100878 -3.996840 -4.285843 -4.506579 -4.022377 -3.234368 -1.566126   \n",
              "2 -0.567088 -2.593450 -3.874230 -4.584095 -4.187449 -3.151462 -1.742940   \n",
              "3  0.490473 -1.914407 -3.616364 -4.318823 -4.268016 -3.881110 -2.993280   \n",
              "4  0.800232 -0.874252 -2.384761 -3.973292 -4.338224 -3.802422 -2.534510   \n",
              "\n",
              "        7         8         9    ...       131       132       133       134  \\\n",
              "0 -1.818286 -1.250522 -0.477492  ...  0.792168  0.933541  0.796958  0.578621   \n",
              "1 -0.992258 -0.754680  0.042321  ...  0.538356  0.656881  0.787490  0.724046   \n",
              "2 -1.490659 -1.183580 -0.394229  ...  0.886073  0.531452  0.311377 -0.021919   \n",
              "3 -1.671131 -1.333884 -0.965629  ...  0.350816  0.499111  0.600345  0.842069   \n",
              "4 -1.783423 -1.594450 -0.753199  ...  1.148884  0.958434  1.059025  1.371682   \n",
              "\n",
              "        135       136       137       138       139  140  \n",
              "0  0.257740  0.228077  0.123431  0.925286  0.193137  1.0  \n",
              "1  0.555784  0.476333  0.773820  1.119621 -1.436250  1.0  \n",
              "2 -0.713683 -0.532197  0.321097  0.904227 -0.421797  1.0  \n",
              "3  0.952074  0.990133  1.086798  1.403011 -0.383564  1.0  \n",
              "4  1.277392  0.960304  0.971020  1.614392  1.421456  1.0  \n",
              "\n",
              "[5 rows x 141 columns]"
            ],
            "text/html": [
              "\n",
              "  <div id=\"df-ddd00ede-5fdf-430d-acdc-d147c7bfabfc\">\n",
              "    <div class=\"colab-df-container\">\n",
              "      <div>\n",
              "<style scoped>\n",
              "    .dataframe tbody tr th:only-of-type {\n",
              "        vertical-align: middle;\n",
              "    }\n",
              "\n",
              "    .dataframe tbody tr th {\n",
              "        vertical-align: top;\n",
              "    }\n",
              "\n",
              "    .dataframe thead th {\n",
              "        text-align: right;\n",
              "    }\n",
              "</style>\n",
              "<table border=\"1\" class=\"dataframe\">\n",
              "  <thead>\n",
              "    <tr style=\"text-align: right;\">\n",
              "      <th></th>\n",
              "      <th>0</th>\n",
              "      <th>1</th>\n",
              "      <th>2</th>\n",
              "      <th>3</th>\n",
              "      <th>4</th>\n",
              "      <th>5</th>\n",
              "      <th>6</th>\n",
              "      <th>7</th>\n",
              "      <th>8</th>\n",
              "      <th>9</th>\n",
              "      <th>...</th>\n",
              "      <th>131</th>\n",
              "      <th>132</th>\n",
              "      <th>133</th>\n",
              "      <th>134</th>\n",
              "      <th>135</th>\n",
              "      <th>136</th>\n",
              "      <th>137</th>\n",
              "      <th>138</th>\n",
              "      <th>139</th>\n",
              "      <th>140</th>\n",
              "    </tr>\n",
              "  </thead>\n",
              "  <tbody>\n",
              "    <tr>\n",
              "      <th>0</th>\n",
              "      <td>-0.112522</td>\n",
              "      <td>-2.827204</td>\n",
              "      <td>-3.773897</td>\n",
              "      <td>-4.349751</td>\n",
              "      <td>-4.376041</td>\n",
              "      <td>-3.474986</td>\n",
              "      <td>-2.181408</td>\n",
              "      <td>-1.818286</td>\n",
              "      <td>-1.250522</td>\n",
              "      <td>-0.477492</td>\n",
              "      <td>...</td>\n",
              "      <td>0.792168</td>\n",
              "      <td>0.933541</td>\n",
              "      <td>0.796958</td>\n",
              "      <td>0.578621</td>\n",
              "      <td>0.257740</td>\n",
              "      <td>0.228077</td>\n",
              "      <td>0.123431</td>\n",
              "      <td>0.925286</td>\n",
              "      <td>0.193137</td>\n",
              "      <td>1.0</td>\n",
              "    </tr>\n",
              "    <tr>\n",
              "      <th>1</th>\n",
              "      <td>-1.100878</td>\n",
              "      <td>-3.996840</td>\n",
              "      <td>-4.285843</td>\n",
              "      <td>-4.506579</td>\n",
              "      <td>-4.022377</td>\n",
              "      <td>-3.234368</td>\n",
              "      <td>-1.566126</td>\n",
              "      <td>-0.992258</td>\n",
              "      <td>-0.754680</td>\n",
              "      <td>0.042321</td>\n",
              "      <td>...</td>\n",
              "      <td>0.538356</td>\n",
              "      <td>0.656881</td>\n",
              "      <td>0.787490</td>\n",
              "      <td>0.724046</td>\n",
              "      <td>0.555784</td>\n",
              "      <td>0.476333</td>\n",
              "      <td>0.773820</td>\n",
              "      <td>1.119621</td>\n",
              "      <td>-1.436250</td>\n",
              "      <td>1.0</td>\n",
              "    </tr>\n",
              "    <tr>\n",
              "      <th>2</th>\n",
              "      <td>-0.567088</td>\n",
              "      <td>-2.593450</td>\n",
              "      <td>-3.874230</td>\n",
              "      <td>-4.584095</td>\n",
              "      <td>-4.187449</td>\n",
              "      <td>-3.151462</td>\n",
              "      <td>-1.742940</td>\n",
              "      <td>-1.490659</td>\n",
              "      <td>-1.183580</td>\n",
              "      <td>-0.394229</td>\n",
              "      <td>...</td>\n",
              "      <td>0.886073</td>\n",
              "      <td>0.531452</td>\n",
              "      <td>0.311377</td>\n",
              "      <td>-0.021919</td>\n",
              "      <td>-0.713683</td>\n",
              "      <td>-0.532197</td>\n",
              "      <td>0.321097</td>\n",
              "      <td>0.904227</td>\n",
              "      <td>-0.421797</td>\n",
              "      <td>1.0</td>\n",
              "    </tr>\n",
              "    <tr>\n",
              "      <th>3</th>\n",
              "      <td>0.490473</td>\n",
              "      <td>-1.914407</td>\n",
              "      <td>-3.616364</td>\n",
              "      <td>-4.318823</td>\n",
              "      <td>-4.268016</td>\n",
              "      <td>-3.881110</td>\n",
              "      <td>-2.993280</td>\n",
              "      <td>-1.671131</td>\n",
              "      <td>-1.333884</td>\n",
              "      <td>-0.965629</td>\n",
              "      <td>...</td>\n",
              "      <td>0.350816</td>\n",
              "      <td>0.499111</td>\n",
              "      <td>0.600345</td>\n",
              "      <td>0.842069</td>\n",
              "      <td>0.952074</td>\n",
              "      <td>0.990133</td>\n",
              "      <td>1.086798</td>\n",
              "      <td>1.403011</td>\n",
              "      <td>-0.383564</td>\n",
              "      <td>1.0</td>\n",
              "    </tr>\n",
              "    <tr>\n",
              "      <th>4</th>\n",
              "      <td>0.800232</td>\n",
              "      <td>-0.874252</td>\n",
              "      <td>-2.384761</td>\n",
              "      <td>-3.973292</td>\n",
              "      <td>-4.338224</td>\n",
              "      <td>-3.802422</td>\n",
              "      <td>-2.534510</td>\n",
              "      <td>-1.783423</td>\n",
              "      <td>-1.594450</td>\n",
              "      <td>-0.753199</td>\n",
              "      <td>...</td>\n",
              "      <td>1.148884</td>\n",
              "      <td>0.958434</td>\n",
              "      <td>1.059025</td>\n",
              "      <td>1.371682</td>\n",
              "      <td>1.277392</td>\n",
              "      <td>0.960304</td>\n",
              "      <td>0.971020</td>\n",
              "      <td>1.614392</td>\n",
              "      <td>1.421456</td>\n",
              "      <td>1.0</td>\n",
              "    </tr>\n",
              "  </tbody>\n",
              "</table>\n",
              "<p>5 rows × 141 columns</p>\n",
              "</div>\n",
              "      <button class=\"colab-df-convert\" onclick=\"convertToInteractive('df-ddd00ede-5fdf-430d-acdc-d147c7bfabfc')\"\n",
              "              title=\"Convert this dataframe to an interactive table.\"\n",
              "              style=\"display:none;\">\n",
              "        \n",
              "  <svg xmlns=\"http://www.w3.org/2000/svg\" height=\"24px\"viewBox=\"0 0 24 24\"\n",
              "       width=\"24px\">\n",
              "    <path d=\"M0 0h24v24H0V0z\" fill=\"none\"/>\n",
              "    <path d=\"M18.56 5.44l.94 2.06.94-2.06 2.06-.94-2.06-.94-.94-2.06-.94 2.06-2.06.94zm-11 1L8.5 8.5l.94-2.06 2.06-.94-2.06-.94L8.5 2.5l-.94 2.06-2.06.94zm10 10l.94 2.06.94-2.06 2.06-.94-2.06-.94-.94-2.06-.94 2.06-2.06.94z\"/><path d=\"M17.41 7.96l-1.37-1.37c-.4-.4-.92-.59-1.43-.59-.52 0-1.04.2-1.43.59L10.3 9.45l-7.72 7.72c-.78.78-.78 2.05 0 2.83L4 21.41c.39.39.9.59 1.41.59.51 0 1.02-.2 1.41-.59l7.78-7.78 2.81-2.81c.8-.78.8-2.07 0-2.86zM5.41 20L4 18.59l7.72-7.72 1.47 1.35L5.41 20z\"/>\n",
              "  </svg>\n",
              "      </button>\n",
              "      \n",
              "  <style>\n",
              "    .colab-df-container {\n",
              "      display:flex;\n",
              "      flex-wrap:wrap;\n",
              "      gap: 12px;\n",
              "    }\n",
              "\n",
              "    .colab-df-convert {\n",
              "      background-color: #E8F0FE;\n",
              "      border: none;\n",
              "      border-radius: 50%;\n",
              "      cursor: pointer;\n",
              "      display: none;\n",
              "      fill: #1967D2;\n",
              "      height: 32px;\n",
              "      padding: 0 0 0 0;\n",
              "      width: 32px;\n",
              "    }\n",
              "\n",
              "    .colab-df-convert:hover {\n",
              "      background-color: #E2EBFA;\n",
              "      box-shadow: 0px 1px 2px rgba(60, 64, 67, 0.3), 0px 1px 3px 1px rgba(60, 64, 67, 0.15);\n",
              "      fill: #174EA6;\n",
              "    }\n",
              "\n",
              "    [theme=dark] .colab-df-convert {\n",
              "      background-color: #3B4455;\n",
              "      fill: #D2E3FC;\n",
              "    }\n",
              "\n",
              "    [theme=dark] .colab-df-convert:hover {\n",
              "      background-color: #434B5C;\n",
              "      box-shadow: 0px 1px 3px 1px rgba(0, 0, 0, 0.15);\n",
              "      filter: drop-shadow(0px 1px 2px rgba(0, 0, 0, 0.3));\n",
              "      fill: #FFFFFF;\n",
              "    }\n",
              "  </style>\n",
              "\n",
              "      <script>\n",
              "        const buttonEl =\n",
              "          document.querySelector('#df-ddd00ede-5fdf-430d-acdc-d147c7bfabfc button.colab-df-convert');\n",
              "        buttonEl.style.display =\n",
              "          google.colab.kernel.accessAllowed ? 'block' : 'none';\n",
              "\n",
              "        async function convertToInteractive(key) {\n",
              "          const element = document.querySelector('#df-ddd00ede-5fdf-430d-acdc-d147c7bfabfc');\n",
              "          const dataTable =\n",
              "            await google.colab.kernel.invokeFunction('convertToInteractive',\n",
              "                                                     [key], {});\n",
              "          if (!dataTable) return;\n",
              "\n",
              "          const docLinkHtml = 'Like what you see? Visit the ' +\n",
              "            '<a target=\"_blank\" href=https://colab.research.google.com/notebooks/data_table.ipynb>data table notebook</a>'\n",
              "            + ' to learn more about interactive tables.';\n",
              "          element.innerHTML = '';\n",
              "          dataTable['output_type'] = 'display_data';\n",
              "          await google.colab.output.renderOutput(dataTable, element);\n",
              "          const docLink = document.createElement('div');\n",
              "          docLink.innerHTML = docLinkHtml;\n",
              "          element.appendChild(docLink);\n",
              "        }\n",
              "      </script>\n",
              "    </div>\n",
              "  </div>\n",
              "  "
            ]
          },
          "metadata": {},
          "execution_count": 24
        }
      ]
    },
    {
      "cell_type": "markdown",
      "source": [
        "Parse the data so it can be split creating a variable containing the labels and another containing the data. "
      ],
      "metadata": {
        "id": "-hw024JmjRKU"
      }
    },
    {
      "cell_type": "code",
      "source": [
        "# The last element contains the labels\n",
        "labels = raw_data[:, -1]\n",
        "\n",
        "# The other data points are the electrocadriogram data\n",
        "data = raw_data[:, 0:-1]\n",
        "\n",
        "train_data, test_data, train_labels, test_labels = train_test_split(\n",
        "    data, labels, test_size=0.2, random_state=21\n",
        ")"
      ],
      "metadata": {
        "id": "7z40q2oRi_Lz"
      },
      "execution_count": 25,
      "outputs": []
    },
    {
      "cell_type": "markdown",
      "source": [
        "Normalize the data so the features are treated equally:"
      ],
      "metadata": {
        "id": "PRXrsvEBkJic"
      }
    },
    {
      "cell_type": "code",
      "source": [
        "min_val = tf.reduce_min(train_data)\n",
        "max_val = tf.reduce_max(train_data)\n",
        "\n",
        "train_data = (train_data - min_val) / (max_val - min_val)\n",
        "test_data = (test_data - min_val) / (max_val - min_val)\n",
        "\n",
        "train_data = tf.cast(train_data, tf.float32)\n",
        "test_data = tf.cast(test_data, tf.float32)"
      ],
      "metadata": {
        "id": "dZcaP05BkG-a"
      },
      "execution_count": 26,
      "outputs": []
    },
    {
      "cell_type": "markdown",
      "source": [
        "The autoencoder is trained using only the normal rhythms, which are labeled in this dataset as 1. Here the normal rhythms is separated from the abnormal rhythms."
      ],
      "metadata": {
        "id": "ghSz8HNJkiiL"
      }
    },
    {
      "cell_type": "code",
      "source": [
        "train_labels = train_labels.astype(bool)\n",
        "test_labels = test_labels.astype(bool)\n",
        "\n",
        "normal_train_data = train_data[train_labels].numpy()\n",
        "normal_test_data = test_data[test_labels].numpy()\n",
        "\n",
        "anomalous_train_data = train_data[~train_labels].numpy()\n",
        "anomalous_test_data = test_data[~test_labels].numpy()"
      ],
      "metadata": {
        "id": "JuOFToBDkjl-"
      },
      "execution_count": 27,
      "outputs": []
    },
    {
      "cell_type": "markdown",
      "source": [
        "Checking the shape of the normal data and abnormal data:"
      ],
      "metadata": {
        "id": "X4tE16srky93"
      }
    },
    {
      "cell_type": "code",
      "source": [
        "normal_test_data.shape, anomalous_test_data.shape"
      ],
      "metadata": {
        "colab": {
          "base_uri": "https://localhost:8080/"
        },
        "id": "VM2pk4crkOZt",
        "outputId": "c5fa58dc-fb54-4bf1-f4c0-4037ee1d6c92"
      },
      "execution_count": 28,
      "outputs": [
        {
          "output_type": "execute_result",
          "data": {
            "text/plain": [
              "((560, 140), (440, 140))"
            ]
          },
          "metadata": {},
          "execution_count": 28
        }
      ]
    },
    {
      "cell_type": "markdown",
      "source": [
        "Initialize K with the Keras backend to utilize it's methods in the Sampling function."
      ],
      "metadata": {
        "id": "zX7sVmJaYHGE"
      }
    },
    {
      "cell_type": "code",
      "source": [
        "K = keras.backend"
      ],
      "metadata": {
        "id": "4kkgQ8qek-ur"
      },
      "execution_count": 9,
      "outputs": []
    },
    {
      "cell_type": "markdown",
      "source": [
        "This Sampling layer takes two inputs: mean (μ) and log_var (γ). It uses the function K.random_normal() to sample a random vector (of the same shape as γ) from the Normal distribution, with mean 0 and standard deviation 1. Then it multiplies it by exp(γ/2) (which is equal to σ, as you can verify), and finally it adds μ and returns the result. This samples a codings vector from the Normal distribution with mean μ and standard deviation σ."
      ],
      "metadata": {
        "id": "7eAYeTmkcW_s"
      }
    },
    {
      "cell_type": "code",
      "source": [
        "# For details please see Geron's book. Uses the reparametrization trick to do stochastic \n",
        "# sampling from the MVN distribution, while allowing the 2 parallel layers containing the \n",
        "# means and stds of the MVN distribution for each dimension to be trained via \n",
        "# backpropogation of the error signal.\n",
        "class Sampling(keras.layers.Layer):\n",
        "    def call(self, inputs):\n",
        "        mean, log_var = inputs\n",
        "        return K.random_normal(tf.shape(log_var)) * K.exp(log_var / 2) + mean"
      ],
      "metadata": {
        "id": "2jkzw8TrPKQL"
      },
      "execution_count": 29,
      "outputs": []
    },
    {
      "cell_type": "markdown",
      "source": [
        "Create the encoder, using the Functional API because the model is not\n",
        "entirely sequential:"
      ],
      "metadata": {
        "id": "4LWgQRDBYiIt"
      }
    },
    {
      "cell_type": "code",
      "source": [
        "# For details please see Geron's book. \n",
        "codings_size = 8   # The number of dimensions of the MVN distribution in the sampling layer\n",
        "\n",
        "inputs = keras.layers.Input(shape=(normal_train_data.shape[1]))\n",
        "z = keras.layers.Dense(32, activation=\"selu\")(inputs)\n",
        "z = keras.layers.Dense(16, activation=\"selu\")(z)\n",
        "z = keras.layers.Dense(codings_size, activation=\"selu\")(z)\n",
        "\n",
        "# Parallel layers at the end of the encoder for means \n",
        "# and standard deviations of the Multivariate Normal (MVN) distribution \n",
        "# in the dimensions of the coding size (here 8). \n",
        "codings_mean = keras.layers.Dense(codings_size)(z)\n",
        "codings_log_var = keras.layers.Dense(codings_size)(z)\n",
        "\n",
        "# Sampling layer at the end of the encoder\n",
        "codings = Sampling()([codings_mean, codings_log_var])\n",
        "variational_encoder = keras.models.Model(\n",
        "    inputs=[inputs], outputs=[codings_mean, codings_log_var, codings])\n",
        "\n",
        "decoder_inputs = keras.layers.Input(shape=[codings_size])\n",
        "x = keras.layers.Dense(16, activation=\"relu\")(decoder_inputs)\n",
        "x = keras.layers.Dense(32, activation=\"relu\")(x)\n",
        "outputs = keras.layers.Dense(normal_train_data.shape[1], activation=\"sigmoid\")(x)\n",
        "variational_decoder = keras.models.Model(inputs=[decoder_inputs], outputs=[outputs])\n",
        "\n",
        "_, _, codings = variational_encoder(inputs)\n",
        "reconstructions = variational_decoder(codings)\n",
        "variational_ae = keras.models.Model(inputs=[inputs], outputs=[reconstructions])\n",
        "\n",
        "# The latent loss function\n",
        "latent_loss = -0.5 * K.sum(\n",
        "    1 + codings_log_var - K.exp(codings_log_var) - K.square(codings_mean),\n",
        "    axis=-1)\n",
        "\n",
        "# Add the latent loss to the reconstruction loss\n",
        "# variational_ae.add_loss(K.mean(latent_loss) / 784.)\n",
        "\n",
        "# For the reconstruction loss binary cross-entropy loss is used. \n",
        "# For details please see Chapter 17 of Geron's book (Stacked AE and VAE sections) \n",
        "variational_ae.compile(loss=\"mae\", optimizer=\"adam\")\n",
        "\n",
        "history = variational_ae.fit(normal_train_data, normal_train_data, epochs=100, batch_size=512,\n",
        "                             validation_data=(test_data, test_data), shuffle=True)"
      ],
      "metadata": {
        "colab": {
          "base_uri": "https://localhost:8080/"
        },
        "id": "3sdY-gIoPQY9",
        "outputId": "b654f4a4-bf8b-443b-e01b-5244bd029786"
      },
      "execution_count": 30,
      "outputs": [
        {
          "output_type": "stream",
          "name": "stdout",
          "text": [
            "Epoch 1/100\n",
            "5/5 [==============================] - 1s 54ms/step - loss: 0.0711 - val_loss: 0.0629\n",
            "Epoch 2/100\n",
            "5/5 [==============================] - 0s 11ms/step - loss: 0.0615 - val_loss: 0.0564\n",
            "Epoch 3/100\n",
            "5/5 [==============================] - 0s 11ms/step - loss: 0.0555 - val_loss: 0.0524\n",
            "Epoch 4/100\n",
            "5/5 [==============================] - 0s 12ms/step - loss: 0.0503 - val_loss: 0.0497\n",
            "Epoch 5/100\n",
            "5/5 [==============================] - 0s 11ms/step - loss: 0.0460 - val_loss: 0.0475\n",
            "Epoch 6/100\n",
            "5/5 [==============================] - 0s 11ms/step - loss: 0.0419 - val_loss: 0.0451\n",
            "Epoch 7/100\n",
            "5/5 [==============================] - 0s 12ms/step - loss: 0.0374 - val_loss: 0.0426\n",
            "Epoch 8/100\n",
            "5/5 [==============================] - 0s 11ms/step - loss: 0.0336 - val_loss: 0.0408\n",
            "Epoch 9/100\n",
            "5/5 [==============================] - 0s 12ms/step - loss: 0.0305 - val_loss: 0.0392\n",
            "Epoch 10/100\n",
            "5/5 [==============================] - 0s 11ms/step - loss: 0.0281 - val_loss: 0.0377\n",
            "Epoch 11/100\n",
            "5/5 [==============================] - 0s 15ms/step - loss: 0.0262 - val_loss: 0.0365\n",
            "Epoch 12/100\n",
            "5/5 [==============================] - 0s 11ms/step - loss: 0.0249 - val_loss: 0.0363\n",
            "Epoch 13/100\n",
            "5/5 [==============================] - 0s 12ms/step - loss: 0.0238 - val_loss: 0.0356\n",
            "Epoch 14/100\n",
            "5/5 [==============================] - 0s 11ms/step - loss: 0.0228 - val_loss: 0.0350\n",
            "Epoch 15/100\n",
            "5/5 [==============================] - 0s 12ms/step - loss: 0.0220 - val_loss: 0.0351\n",
            "Epoch 16/100\n",
            "5/5 [==============================] - 0s 13ms/step - loss: 0.0215 - val_loss: 0.0346\n",
            "Epoch 17/100\n",
            "5/5 [==============================] - 0s 12ms/step - loss: 0.0212 - val_loss: 0.0347\n",
            "Epoch 18/100\n",
            "5/5 [==============================] - 0s 11ms/step - loss: 0.0210 - val_loss: 0.0343\n",
            "Epoch 19/100\n",
            "5/5 [==============================] - 0s 11ms/step - loss: 0.0208 - val_loss: 0.0341\n",
            "Epoch 20/100\n",
            "5/5 [==============================] - 0s 11ms/step - loss: 0.0207 - val_loss: 0.0340\n",
            "Epoch 21/100\n",
            "5/5 [==============================] - 0s 11ms/step - loss: 0.0206 - val_loss: 0.0340\n",
            "Epoch 22/100\n",
            "5/5 [==============================] - 0s 12ms/step - loss: 0.0206 - val_loss: 0.0339\n",
            "Epoch 23/100\n",
            "5/5 [==============================] - 0s 12ms/step - loss: 0.0205 - val_loss: 0.0337\n",
            "Epoch 24/100\n",
            "5/5 [==============================] - 0s 11ms/step - loss: 0.0205 - val_loss: 0.0336\n",
            "Epoch 25/100\n",
            "5/5 [==============================] - 0s 11ms/step - loss: 0.0204 - val_loss: 0.0336\n",
            "Epoch 26/100\n",
            "5/5 [==============================] - 0s 12ms/step - loss: 0.0204 - val_loss: 0.0337\n",
            "Epoch 27/100\n",
            "5/5 [==============================] - 0s 13ms/step - loss: 0.0203 - val_loss: 0.0333\n",
            "Epoch 28/100\n",
            "5/5 [==============================] - 0s 11ms/step - loss: 0.0203 - val_loss: 0.0333\n",
            "Epoch 29/100\n",
            "5/5 [==============================] - 0s 12ms/step - loss: 0.0203 - val_loss: 0.0331\n",
            "Epoch 30/100\n",
            "5/5 [==============================] - 0s 11ms/step - loss: 0.0202 - val_loss: 0.0331\n",
            "Epoch 31/100\n",
            "5/5 [==============================] - 0s 11ms/step - loss: 0.0202 - val_loss: 0.0330\n",
            "Epoch 32/100\n",
            "5/5 [==============================] - 0s 16ms/step - loss: 0.0201 - val_loss: 0.0330\n",
            "Epoch 33/100\n",
            "5/5 [==============================] - 0s 15ms/step - loss: 0.0201 - val_loss: 0.0329\n",
            "Epoch 34/100\n",
            "5/5 [==============================] - 0s 12ms/step - loss: 0.0201 - val_loss: 0.0327\n",
            "Epoch 35/100\n",
            "5/5 [==============================] - 0s 11ms/step - loss: 0.0200 - val_loss: 0.0325\n",
            "Epoch 36/100\n",
            "5/5 [==============================] - 0s 11ms/step - loss: 0.0200 - val_loss: 0.0324\n",
            "Epoch 37/100\n",
            "5/5 [==============================] - 0s 11ms/step - loss: 0.0199 - val_loss: 0.0322\n",
            "Epoch 38/100\n",
            "5/5 [==============================] - 0s 11ms/step - loss: 0.0199 - val_loss: 0.0322\n",
            "Epoch 39/100\n",
            "5/5 [==============================] - 0s 11ms/step - loss: 0.0198 - val_loss: 0.0319\n",
            "Epoch 40/100\n",
            "5/5 [==============================] - 0s 11ms/step - loss: 0.0198 - val_loss: 0.0318\n",
            "Epoch 41/100\n",
            "5/5 [==============================] - 0s 11ms/step - loss: 0.0197 - val_loss: 0.0317\n",
            "Epoch 42/100\n",
            "5/5 [==============================] - 0s 12ms/step - loss: 0.0196 - val_loss: 0.0315\n",
            "Epoch 43/100\n",
            "5/5 [==============================] - 0s 11ms/step - loss: 0.0196 - val_loss: 0.0316\n",
            "Epoch 44/100\n",
            "5/5 [==============================] - 0s 11ms/step - loss: 0.0195 - val_loss: 0.0313\n",
            "Epoch 45/100\n",
            "5/5 [==============================] - 0s 12ms/step - loss: 0.0195 - val_loss: 0.0311\n",
            "Epoch 46/100\n",
            "5/5 [==============================] - 0s 12ms/step - loss: 0.0194 - val_loss: 0.0310\n",
            "Epoch 47/100\n",
            "5/5 [==============================] - 0s 11ms/step - loss: 0.0193 - val_loss: 0.0308\n",
            "Epoch 48/100\n",
            "5/5 [==============================] - 0s 11ms/step - loss: 0.0192 - val_loss: 0.0308\n",
            "Epoch 49/100\n",
            "5/5 [==============================] - 0s 13ms/step - loss: 0.0192 - val_loss: 0.0304\n",
            "Epoch 50/100\n",
            "5/5 [==============================] - 0s 14ms/step - loss: 0.0191 - val_loss: 0.0305\n",
            "Epoch 51/100\n",
            "5/5 [==============================] - 0s 11ms/step - loss: 0.0190 - val_loss: 0.0302\n",
            "Epoch 52/100\n",
            "5/5 [==============================] - 0s 12ms/step - loss: 0.0189 - val_loss: 0.0302\n",
            "Epoch 53/100\n",
            "5/5 [==============================] - 0s 11ms/step - loss: 0.0188 - val_loss: 0.0300\n",
            "Epoch 54/100\n",
            "5/5 [==============================] - 0s 12ms/step - loss: 0.0187 - val_loss: 0.0299\n",
            "Epoch 55/100\n",
            "5/5 [==============================] - 0s 11ms/step - loss: 0.0187 - val_loss: 0.0302\n",
            "Epoch 56/100\n",
            "5/5 [==============================] - 0s 11ms/step - loss: 0.0186 - val_loss: 0.0298\n",
            "Epoch 57/100\n",
            "5/5 [==============================] - 0s 11ms/step - loss: 0.0184 - val_loss: 0.0299\n",
            "Epoch 58/100\n",
            "5/5 [==============================] - 0s 12ms/step - loss: 0.0183 - val_loss: 0.0297\n",
            "Epoch 59/100\n",
            "5/5 [==============================] - 0s 12ms/step - loss: 0.0181 - val_loss: 0.0298\n",
            "Epoch 60/100\n",
            "5/5 [==============================] - 0s 11ms/step - loss: 0.0180 - val_loss: 0.0297\n",
            "Epoch 61/100\n",
            "5/5 [==============================] - 0s 11ms/step - loss: 0.0178 - val_loss: 0.0298\n",
            "Epoch 62/100\n",
            "5/5 [==============================] - 0s 11ms/step - loss: 0.0177 - val_loss: 0.0295\n",
            "Epoch 63/100\n",
            "5/5 [==============================] - 0s 12ms/step - loss: 0.0176 - val_loss: 0.0296\n",
            "Epoch 64/100\n",
            "5/5 [==============================] - 0s 11ms/step - loss: 0.0175 - val_loss: 0.0296\n",
            "Epoch 65/100\n",
            "5/5 [==============================] - 0s 12ms/step - loss: 0.0173 - val_loss: 0.0296\n",
            "Epoch 66/100\n",
            "5/5 [==============================] - 0s 12ms/step - loss: 0.0172 - val_loss: 0.0296\n",
            "Epoch 67/100\n",
            "5/5 [==============================] - 0s 14ms/step - loss: 0.0171 - val_loss: 0.0295\n",
            "Epoch 68/100\n",
            "5/5 [==============================] - 0s 12ms/step - loss: 0.0171 - val_loss: 0.0295\n",
            "Epoch 69/100\n",
            "5/5 [==============================] - 0s 11ms/step - loss: 0.0169 - val_loss: 0.0294\n",
            "Epoch 70/100\n",
            "5/5 [==============================] - 0s 12ms/step - loss: 0.0169 - val_loss: 0.0293\n",
            "Epoch 71/100\n",
            "5/5 [==============================] - 0s 11ms/step - loss: 0.0168 - val_loss: 0.0293\n",
            "Epoch 72/100\n",
            "5/5 [==============================] - 0s 11ms/step - loss: 0.0167 - val_loss: 0.0292\n",
            "Epoch 73/100\n",
            "5/5 [==============================] - 0s 11ms/step - loss: 0.0167 - val_loss: 0.0291\n",
            "Epoch 74/100\n",
            "5/5 [==============================] - 0s 12ms/step - loss: 0.0165 - val_loss: 0.0290\n",
            "Epoch 75/100\n",
            "5/5 [==============================] - 0s 11ms/step - loss: 0.0165 - val_loss: 0.0289\n",
            "Epoch 76/100\n",
            "5/5 [==============================] - 0s 11ms/step - loss: 0.0164 - val_loss: 0.0287\n",
            "Epoch 77/100\n",
            "5/5 [==============================] - 0s 13ms/step - loss: 0.0163 - val_loss: 0.0285\n",
            "Epoch 78/100\n",
            "5/5 [==============================] - 0s 12ms/step - loss: 0.0163 - val_loss: 0.0285\n",
            "Epoch 79/100\n",
            "5/5 [==============================] - 0s 11ms/step - loss: 0.0162 - val_loss: 0.0283\n",
            "Epoch 80/100\n",
            "5/5 [==============================] - 0s 12ms/step - loss: 0.0161 - val_loss: 0.0283\n",
            "Epoch 81/100\n",
            "5/5 [==============================] - 0s 15ms/step - loss: 0.0161 - val_loss: 0.0282\n",
            "Epoch 82/100\n",
            "5/5 [==============================] - 0s 11ms/step - loss: 0.0162 - val_loss: 0.0281\n",
            "Epoch 83/100\n",
            "5/5 [==============================] - 0s 13ms/step - loss: 0.0160 - val_loss: 0.0280\n",
            "Epoch 84/100\n",
            "5/5 [==============================] - 0s 12ms/step - loss: 0.0159 - val_loss: 0.0277\n",
            "Epoch 85/100\n",
            "5/5 [==============================] - 0s 14ms/step - loss: 0.0159 - val_loss: 0.0280\n",
            "Epoch 86/100\n",
            "5/5 [==============================] - 0s 11ms/step - loss: 0.0158 - val_loss: 0.0277\n",
            "Epoch 87/100\n",
            "5/5 [==============================] - 0s 11ms/step - loss: 0.0158 - val_loss: 0.0275\n",
            "Epoch 88/100\n",
            "5/5 [==============================] - 0s 17ms/step - loss: 0.0156 - val_loss: 0.0274\n",
            "Epoch 89/100\n",
            "5/5 [==============================] - 0s 11ms/step - loss: 0.0156 - val_loss: 0.0274\n",
            "Epoch 90/100\n",
            "5/5 [==============================] - 0s 12ms/step - loss: 0.0155 - val_loss: 0.0274\n",
            "Epoch 91/100\n",
            "5/5 [==============================] - 0s 13ms/step - loss: 0.0155 - val_loss: 0.0276\n",
            "Epoch 92/100\n",
            "5/5 [==============================] - 0s 11ms/step - loss: 0.0155 - val_loss: 0.0272\n",
            "Epoch 93/100\n",
            "5/5 [==============================] - 0s 11ms/step - loss: 0.0153 - val_loss: 0.0272\n",
            "Epoch 94/100\n",
            "5/5 [==============================] - 0s 12ms/step - loss: 0.0152 - val_loss: 0.0270\n",
            "Epoch 95/100\n",
            "5/5 [==============================] - 0s 12ms/step - loss: 0.0152 - val_loss: 0.0268\n",
            "Epoch 96/100\n",
            "5/5 [==============================] - 0s 11ms/step - loss: 0.0151 - val_loss: 0.0269\n",
            "Epoch 97/100\n",
            "5/5 [==============================] - 0s 12ms/step - loss: 0.0150 - val_loss: 0.0268\n",
            "Epoch 98/100\n",
            "5/5 [==============================] - 0s 11ms/step - loss: 0.0149 - val_loss: 0.0268\n",
            "Epoch 99/100\n",
            "5/5 [==============================] - 0s 13ms/step - loss: 0.0150 - val_loss: 0.0268\n",
            "Epoch 100/100\n",
            "5/5 [==============================] - 0s 11ms/step - loss: 0.0148 - val_loss: 0.0269\n"
          ]
        }
      ]
    },
    {
      "cell_type": "markdown",
      "source": [
        "Plotting the training and validation loss for each epoch of training:"
      ],
      "metadata": {
        "id": "hgY-z8RTZlIT"
      }
    },
    {
      "cell_type": "code",
      "source": [
        "plt.plot(history.history[\"loss\"], label=\"Training Loss\")\n",
        "plt.plot(history.history[\"val_loss\"], label=\"Validation Loss\")\n",
        "plt.legend()"
      ],
      "metadata": {
        "id": "wuoQevDPlMUa",
        "colab": {
          "base_uri": "https://localhost:8080/",
          "height": 283
        },
        "outputId": "1946d555-ed99-4a84-a0bf-416b23dcb1ad"
      },
      "execution_count": 31,
      "outputs": [
        {
          "output_type": "execute_result",
          "data": {
            "text/plain": [
              "<matplotlib.legend.Legend at 0x7f789b5da350>"
            ]
          },
          "metadata": {},
          "execution_count": 31
        },
        {
          "output_type": "display_data",
          "data": {
            "text/plain": [
              "<Figure size 432x288 with 1 Axes>"
            ],
            "image/png": "[encoded data removed]"
          },
          "metadata": {
            "needs_background": "light"
          }
        }
      ]
    },
    {
      "cell_type": "markdown",
      "source": [
        "Plotting a normal ECG from the training set, the reconstruction after it's encoded and decoded by the autoencoder, and the reconstruction error."
      ],
      "metadata": {
        "id": "p60CoHSmZn0W"
      }
    },
    {
      "cell_type": "code",
      "source": [
        "_, _, codings = variational_encoder(normal_test_data)\n",
        "decoded_imgs = variational_decoder(codings)\n",
        "\n",
        "plt.plot(normal_test_data[0],'b')\n",
        "plt.plot(decoded_imgs[0],'r')\n",
        "plt.fill_between(np.arange(140), decoded_imgs[0], normal_test_data[0], color='lightcoral' )\n",
        "plt.legend(labels=[\"Input\", \"Reconstruction\", \"Error\"])\n",
        "plt.show()"
      ],
      "metadata": {
        "colab": {
          "base_uri": "https://localhost:8080/",
          "height": 265
        },
        "id": "f9VumW40gY-0",
        "outputId": "b62c7baf-a214-43a4-e690-77f6fad2128a"
      },
      "execution_count": 34,
      "outputs": [
        {
          "output_type": "display_data",
          "data": {
            "text/plain": [
              "<Figure size 432x288 with 1 Axes>"
            ],
            "image/png": "[encoded data removed]"
          },
          "metadata": {
            "needs_background": "light"
          }
        }
      ]
    },
    {
      "cell_type": "markdown",
      "source": [
        "Now, we will do the same for the anomalous data:"
      ],
      "metadata": {
        "id": "nEYGvDylZpif"
      }
    },
    {
      "cell_type": "code",
      "source": [
        "_, _, codings = variational_encoder(anomalous_test_data)\n",
        "decoded_imgs = variational_decoder(codings)\n",
        "\n",
        "plt.plot(normal_test_data[0],'b')\n",
        "plt.plot(decoded_imgs[0],'r')\n",
        "plt.fill_between(np.arange(140), decoded_imgs[0], normal_test_data[0], color='lightcoral' )\n",
        "plt.legend(labels=[\"Input\", \"Reconstruction\", \"Error\"])\n",
        "plt.show()"
      ],
      "metadata": {
        "colab": {
          "base_uri": "https://localhost:8080/",
          "height": 265
        },
        "id": "dmh2FybLXKYS",
        "outputId": "05bbaaab-368c-48f0-eda6-af5f10d34767"
      },
      "execution_count": 35,
      "outputs": [
        {
          "output_type": "display_data",
          "data": {
            "text/plain": [
              "<Figure size 432x288 with 1 Axes>"
            ],
            "image/png": "[encoded data removed]"
          },
          "metadata": {
            "needs_background": "light"
          }
        }
      ]
    },
    {
      "cell_type": "markdown",
      "source": [
        "We now detect anomalies by calculating whether the reconstruction loss is greater than a fixed threshold , where  is the calculated for normal examples from the training set. We then will classify future examples as anomalous if the reconstruction error is higher than this threshold  from the training set.\n",
        "\n",
        "Plotting the reconstruction error on normal ECGs from the training set"
      ],
      "metadata": {
        "id": "65kcAXQ_AM4U"
      }
    },
    {
      "cell_type": "code",
      "source": [
        "reconstructions = variational_ae.predict(normal_train_data)\n",
        "train_loss = tf.keras.losses.mae(reconstructions, normal_train_data)\n",
        "\n",
        "plt.hist(train_loss, bins=50)\n",
        "plt.xlabel(\"Train loss\")\n",
        "plt.ylabel(\"No of examples\")\n",
        "plt.show()"
      ],
      "metadata": {
        "colab": {
          "base_uri": "https://localhost:8080/",
          "height": 279
        },
        "id": "BFnbd-UOgbuD",
        "outputId": "3fd6b78d-a083-49c2-99ca-d8c31026ec26"
      },
      "execution_count": 36,
      "outputs": [
        {
          "output_type": "display_data",
          "data": {
            "text/plain": [
              "<Figure size 432x288 with 1 Axes>"
            ],
            "image/png": "[encoded data removed]"
          },
          "metadata": {
            "needs_background": "light"
          }
        }
      ]
    },
    {
      "cell_type": "code",
      "source": [
        "print(\"Mean: \", np.mean(train_loss))\n",
        "print(\"Std: \", np.std(train_loss))"
      ],
      "metadata": {
        "colab": {
          "base_uri": "https://localhost:8080/"
        },
        "id": "SWA5cIAWRF_2",
        "outputId": "87850922-41c4-4c2e-a3ab-e9e6319ccce8"
      },
      "execution_count": 17,
      "outputs": [
        {
          "output_type": "stream",
          "name": "stdout",
          "text": [
            "Mean:  0.016631432\n",
            "Std:  0.00906974\n"
          ]
        }
      ]
    },
    {
      "cell_type": "markdown",
      "source": [
        "Initializing our threshold:"
      ],
      "metadata": {
        "id": "rgOlaTE-Zv7e"
      }
    },
    {
      "cell_type": "code",
      "source": [
        "threshold_vae = np.mean(train_loss) + 2.5*np.std(train_loss)\n",
        "print(\"Threshold: \", threshold_vae)"
      ],
      "metadata": {
        "colab": {
          "base_uri": "https://localhost:8080/"
        },
        "id": "6gzLi3hpAScC",
        "outputId": "daa46586-8c03-4899-edea-67355bdb341b"
      },
      "execution_count": 37,
      "outputs": [
        {
          "output_type": "stream",
          "name": "stdout",
          "text": [
            "Threshold:  0.03317197202704847\n"
          ]
        }
      ]
    },
    {
      "cell_type": "markdown",
      "source": [
        ""
      ],
      "metadata": {
        "id": "Yud1Ug20ZyBQ"
      }
    },
    {
      "cell_type": "code",
      "source": [
        "reconstructions = variational_ae.predict(anomalous_test_data)\n",
        "test_loss = tf.keras.losses.mae(reconstructions, anomalous_test_data)\n",
        "\n",
        "plt.hist(test_loss, bins=50)\n",
        "plt.axvline(threshold_vae,c='r')\n",
        "plt.xlabel(\"Test loss\")\n",
        "plt.ylabel(\"No of examples\")\n",
        "plt.show()"
      ],
      "metadata": {
        "colab": {
          "base_uri": "https://localhost:8080/",
          "height": 279
        },
        "id": "0IhQiRn8AVha",
        "outputId": "ec3bd305-3fe6-4f3a-9522-4a7eaf7268b4"
      },
      "execution_count": 19,
      "outputs": [
        {
          "output_type": "display_data",
          "data": {
            "text/plain": [
              "<Figure size 432x288 with 1 Axes>"
            ],
            "image/png": "[encoded data removed]"
          },
          "metadata": {
            "needs_background": "light"
          }
        }
      ]
    },
    {
      "cell_type": "code",
      "source": [
        "def predict(model, data, threshold):\n",
        "  reconstructions = model.predict(data)\n",
        "  loss = tf.keras.losses.mae(reconstructions, data)\n",
        "  return tf.math.less(loss, threshold)\n",
        "\n",
        "def print_stats(predictions, labels):\n",
        "  cf = confusion_matrix(labels, predictions)\n",
        "  print(\"Confusion Matrix: \\n prediction: F      T \")\n",
        "  print(\"             {}   {}\".format(preds[preds == False].shape[0], preds[preds == True].shape[0]))\n",
        "  print(\" label: F   [[{}   {}]    {}\".format(cf[0,0], cf[0,1], labels[labels == False].shape[0]))\n",
        "  print(\"        T    [{}   {}]]   {}\".format(cf[1,0], cf[1,1], labels[labels == True].shape[0]))\n",
        "  print(\"Accuracy = {}\".format(accuracy_score(labels, predictions)))\n",
        "  print(\"Precision = {}\".format(precision_score(labels, predictions)))\n",
        "  print(\"Recall = {}\".format(recall_score(labels, predictions)))"
      ],
      "metadata": {
        "id": "8ftrGURQRT_f"
      },
      "execution_count": 20,
      "outputs": []
    },
    {
      "cell_type": "code",
      "source": [
        "preds = predict(variational_ae, test_data, threshold_vae)\n",
        "print_stats(preds, test_labels)"
      ],
      "metadata": {
        "colab": {
          "base_uri": "https://localhost:8080/"
        },
        "id": "AbGfh08QRWNG",
        "outputId": "81812544-78cb-425c-be89-27c3c6db179e"
      },
      "execution_count": 21,
      "outputs": [
        {
          "output_type": "stream",
          "name": "stdout",
          "text": [
            "Confusion Matrix: \n",
            " prediction: F      T \n",
            "             411   589\n",
            " label: F   [[391   49]    440\n",
            "        T    [20   540]]   560\n",
            "Accuracy = 0.931\n",
            "Precision = 0.9168081494057725\n",
            "Recall = 0.9642857142857143\n"
          ]
        }
      ]
    },
    {
      "cell_type": "code",
      "source": [
        "reconstructions = variational_ae.predict(test_data)\n",
        "test_loss = tf.keras.losses.mae(reconstructions, test_data)\n",
        "\n",
        "plt.hist(test_loss[None, :], bins=50)\n",
        "plt.xlabel(\"Test loss\")\n",
        "plt.ylabel(\"No of examples\")\n",
        "plt.show()"
      ],
      "metadata": {
        "colab": {
          "base_uri": "https://localhost:8080/",
          "height": 279
        },
        "id": "wm62KcSuR5M-",
        "outputId": "48cf4852-9f87-4454-a588-14d7b80398a1"
      },
      "execution_count": 22,
      "outputs": [
        {
          "output_type": "display_data",
          "data": {
            "text/plain": [
              "<Figure size 432x288 with 1 Axes>"
            ],
            "image/png": "[encoded data removed]"
          },
          "metadata": {
            "needs_background": "light"
          }
        }
      ]
    }
  ]
}