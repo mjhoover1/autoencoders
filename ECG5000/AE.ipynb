{
  "cells": [
    {
      "cell_type": "markdown",
      "metadata": {
        "id": "uhcLr_bWP6BW"
      },
      "source": [
        "Reference: Keras tutorial : https://www.tensorflow.org/tutorials/generative/autoencoder\n",
        "\n",
        "This file trains an autoencoder with the instances of normal ECGs in the training data. Then, it measures the reconstruction loss for both the normal and abnormal ECGs in the test data. The reconstruction loss for the instances of the abnormal ECGs in the test data is higher. A threshold is determined based on the distribution of the reconstruction losses of the normal training data (threshold = mean + 2.5*std of this distribution). Then, if the reconstruction loss of a normal ECG in the training data is higher than this threshold, it is classified as abnormal. By comparing with the known labels of test data (with T for normal ECG(s) and F for abnormal ECG(s)), the confusion matrix and the accuracy is calculated."
      ]
    },
    {
      "cell_type": "code",
      "execution_count": 1,
      "metadata": {
        "id": "DB5rTgh3P--w"
      },
      "outputs": [],
      "source": [
        "import matplotlib.pyplot as plt\n",
        "import numpy as np\n",
        "import pandas as pd\n",
        "import tensorflow as tf\n",
        "from tensorflow import keras\n",
        "\n",
        "from sklearn.metrics import accuracy_score, precision_score, recall_score, confusion_matrix\n",
        "from sklearn.model_selection import train_test_split\n",
        "from keras import layers, losses\n",
        "from keras.models import Model"
      ]
    },
    {
      "cell_type": "markdown",
      "metadata": {
        "id": "xpqoO7I2QUa6"
      },
      "source": [
        "Loading the ECG5000 data"
      ]
    },
    {
      "cell_type": "code",
      "execution_count": 2,
      "metadata": {
        "colab": {
          "base_uri": "https://localhost:8080/",
          "height": 299
        },
        "id": "dP_2rJQBQVM6",
        "outputId": "7c0920fe-3a7c-46f7-ddf7-042d4950379e"
      },
      "outputs": [
        {
          "output_type": "execute_result",
          "data": {
            "text/plain": [
              "        0         1         2         3         4         5         6    \\\n",
              "0 -0.112522 -2.827204 -3.773897 -4.349751 -4.376041 -3.474986 -2.181408   \n",
              "1 -1.100878 -3.996840 -4.285843 -4.506579 -4.022377 -3.234368 -1.566126   \n",
              "2 -0.567088 -2.593450 -3.874230 -4.584095 -4.187449 -3.151462 -1.742940   \n",
              "3  0.490473 -1.914407 -3.616364 -4.318823 -4.268016 -3.881110 -2.993280   \n",
              "4  0.800232 -0.874252 -2.384761 -3.973292 -4.338224 -3.802422 -2.534510   \n",
              "\n",
              "        7         8         9    ...       131       132       133       134  \\\n",
              "0 -1.818286 -1.250522 -0.477492  ...  0.792168  0.933541  0.796958  0.578621   \n",
              "1 -0.992258 -0.754680  0.042321  ...  0.538356  0.656881  0.787490  0.724046   \n",
              "2 -1.490659 -1.183580 -0.394229  ...  0.886073  0.531452  0.311377 -0.021919   \n",
              "3 -1.671131 -1.333884 -0.965629  ...  0.350816  0.499111  0.600345  0.842069   \n",
              "4 -1.783423 -1.594450 -0.753199  ...  1.148884  0.958434  1.059025  1.371682   \n",
              "\n",
              "        135       136       137       138       139  140  \n",
              "0  0.257740  0.228077  0.123431  0.925286  0.193137  1.0  \n",
              "1  0.555784  0.476333  0.773820  1.119621 -1.436250  1.0  \n",
              "2 -0.713683 -0.532197  0.321097  0.904227 -0.421797  1.0  \n",
              "3  0.952074  0.990133  1.086798  1.403011 -0.383564  1.0  \n",
              "4  1.277392  0.960304  0.971020  1.614392  1.421456  1.0  \n",
              "\n",
              "[5 rows x 141 columns]"
            ],
            "text/html": [
              "\n",
              "  <div id=\"df-0684d207-4a8e-4dcc-bee8-d0e9ed45201d\">\n",
              "    <div class=\"colab-df-container\">\n",
              "      <div>\n",
              "<style scoped>\n",
              "    .dataframe tbody tr th:only-of-type {\n",
              "        vertical-align: middle;\n",
              "    }\n",
              "\n",
              "    .dataframe tbody tr th {\n",
              "        vertical-align: top;\n",
              "    }\n",
              "\n",
              "    .dataframe thead th {\n",
              "        text-align: right;\n",
              "    }\n",
              "</style>\n",
              "<table border=\"1\" class=\"dataframe\">\n",
              "  <thead>\n",
              "    <tr style=\"text-align: right;\">\n",
              "      <th></th>\n",
              "      <th>0</th>\n",
              "      <th>1</th>\n",
              "      <th>2</th>\n",
              "      <th>3</th>\n",
              "      <th>4</th>\n",
              "      <th>5</th>\n",
              "      <th>6</th>\n",
              "      <th>7</th>\n",
              "      <th>8</th>\n",
              "      <th>9</th>\n",
              "      <th>...</th>\n",
              "      <th>131</th>\n",
              "      <th>132</th>\n",
              "      <th>133</th>\n",
              "      <th>134</th>\n",
              "      <th>135</th>\n",
              "      <th>136</th>\n",
              "      <th>137</th>\n",
              "      <th>138</th>\n",
              "      <th>139</th>\n",
              "      <th>140</th>\n",
              "    </tr>\n",
              "  </thead>\n",
              "  <tbody>\n",
              "    <tr>\n",
              "      <th>0</th>\n",
              "      <td>-0.112522</td>\n",
              "      <td>-2.827204</td>\n",
              "      <td>-3.773897</td>\n",
              "      <td>-4.349751</td>\n",
              "      <td>-4.376041</td>\n",
              "      <td>-3.474986</td>\n",
              "      <td>-2.181408</td>\n",
              "      <td>-1.818286</td>\n",
              "      <td>-1.250522</td>\n",
              "      <td>-0.477492</td>\n",
              "      <td>...</td>\n",
              "      <td>0.792168</td>\n",
              "      <td>0.933541</td>\n",
              "      <td>0.796958</td>\n",
              "      <td>0.578621</td>\n",
              "      <td>0.257740</td>\n",
              "      <td>0.228077</td>\n",
              "      <td>0.123431</td>\n",
              "      <td>0.925286</td>\n",
              "      <td>0.193137</td>\n",
              "      <td>1.0</td>\n",
              "    </tr>\n",
              "    <tr>\n",
              "      <th>1</th>\n",
              "      <td>-1.100878</td>\n",
              "      <td>-3.996840</td>\n",
              "      <td>-4.285843</td>\n",
              "      <td>-4.506579</td>\n",
              "      <td>-4.022377</td>\n",
              "      <td>-3.234368</td>\n",
              "      <td>-1.566126</td>\n",
              "      <td>-0.992258</td>\n",
              "      <td>-0.754680</td>\n",
              "      <td>0.042321</td>\n",
              "      <td>...</td>\n",
              "      <td>0.538356</td>\n",
              "      <td>0.656881</td>\n",
              "      <td>0.787490</td>\n",
              "      <td>0.724046</td>\n",
              "      <td>0.555784</td>\n",
              "      <td>0.476333</td>\n",
              "      <td>0.773820</td>\n",
              "      <td>1.119621</td>\n",
              "      <td>-1.436250</td>\n",
              "      <td>1.0</td>\n",
              "    </tr>\n",
              "    <tr>\n",
              "      <th>2</th>\n",
              "      <td>-0.567088</td>\n",
              "      <td>-2.593450</td>\n",
              "      <td>-3.874230</td>\n",
              "      <td>-4.584095</td>\n",
              "      <td>-4.187449</td>\n",
              "      <td>-3.151462</td>\n",
              "      <td>-1.742940</td>\n",
              "      <td>-1.490659</td>\n",
              "      <td>-1.183580</td>\n",
              "      <td>-0.394229</td>\n",
              "      <td>...</td>\n",
              "      <td>0.886073</td>\n",
              "      <td>0.531452</td>\n",
              "      <td>0.311377</td>\n",
              "      <td>-0.021919</td>\n",
              "      <td>-0.713683</td>\n",
              "      <td>-0.532197</td>\n",
              "      <td>0.321097</td>\n",
              "      <td>0.904227</td>\n",
              "      <td>-0.421797</td>\n",
              "      <td>1.0</td>\n",
              "    </tr>\n",
              "    <tr>\n",
              "      <th>3</th>\n",
              "      <td>0.490473</td>\n",
              "      <td>-1.914407</td>\n",
              "      <td>-3.616364</td>\n",
              "      <td>-4.318823</td>\n",
              "      <td>-4.268016</td>\n",
              "      <td>-3.881110</td>\n",
              "      <td>-2.993280</td>\n",
              "      <td>-1.671131</td>\n",
              "      <td>-1.333884</td>\n",
              "      <td>-0.965629</td>\n",
              "      <td>...</td>\n",
              "      <td>0.350816</td>\n",
              "      <td>0.499111</td>\n",
              "      <td>0.600345</td>\n",
              "      <td>0.842069</td>\n",
              "      <td>0.952074</td>\n",
              "      <td>0.990133</td>\n",
              "      <td>1.086798</td>\n",
              "      <td>1.403011</td>\n",
              "      <td>-0.383564</td>\n",
              "      <td>1.0</td>\n",
              "    </tr>\n",
              "    <tr>\n",
              "      <th>4</th>\n",
              "      <td>0.800232</td>\n",
              "      <td>-0.874252</td>\n",
              "      <td>-2.384761</td>\n",
              "      <td>-3.973292</td>\n",
              "      <td>-4.338224</td>\n",
              "      <td>-3.802422</td>\n",
              "      <td>-2.534510</td>\n",
              "      <td>-1.783423</td>\n",
              "      <td>-1.594450</td>\n",
              "      <td>-0.753199</td>\n",
              "      <td>...</td>\n",
              "      <td>1.148884</td>\n",
              "      <td>0.958434</td>\n",
              "      <td>1.059025</td>\n",
              "      <td>1.371682</td>\n",
              "      <td>1.277392</td>\n",
              "      <td>0.960304</td>\n",
              "      <td>0.971020</td>\n",
              "      <td>1.614392</td>\n",
              "      <td>1.421456</td>\n",
              "      <td>1.0</td>\n",
              "    </tr>\n",
              "  </tbody>\n",
              "</table>\n",
              "<p>5 rows × 141 columns</p>\n",
              "</div>\n",
              "      <button class=\"colab-df-convert\" onclick=\"convertToInteractive('df-0684d207-4a8e-4dcc-bee8-d0e9ed45201d')\"\n",
              "              title=\"Convert this dataframe to an interactive table.\"\n",
              "              style=\"display:none;\">\n",
              "        \n",
              "  <svg xmlns=\"http://www.w3.org/2000/svg\" height=\"24px\"viewBox=\"0 0 24 24\"\n",
              "       width=\"24px\">\n",
              "    <path d=\"M0 0h24v24H0V0z\" fill=\"none\"/>\n",
              "    <path d=\"M18.56 5.44l.94 2.06.94-2.06 2.06-.94-2.06-.94-.94-2.06-.94 2.06-2.06.94zm-11 1L8.5 8.5l.94-2.06 2.06-.94-2.06-.94L8.5 2.5l-.94 2.06-2.06.94zm10 10l.94 2.06.94-2.06 2.06-.94-2.06-.94-.94-2.06-.94 2.06-2.06.94z\"/><path d=\"M17.41 7.96l-1.37-1.37c-.4-.4-.92-.59-1.43-.59-.52 0-1.04.2-1.43.59L10.3 9.45l-7.72 7.72c-.78.78-.78 2.05 0 2.83L4 21.41c.39.39.9.59 1.41.59.51 0 1.02-.2 1.41-.59l7.78-7.78 2.81-2.81c.8-.78.8-2.07 0-2.86zM5.41 20L4 18.59l7.72-7.72 1.47 1.35L5.41 20z\"/>\n",
              "  </svg>\n",
              "      </button>\n",
              "      \n",
              "  <style>\n",
              "    .colab-df-container {\n",
              "      display:flex;\n",
              "      flex-wrap:wrap;\n",
              "      gap: 12px;\n",
              "    }\n",
              "\n",
              "    .colab-df-convert {\n",
              "      background-color: #E8F0FE;\n",
              "      border: none;\n",
              "      border-radius: 50%;\n",
              "      cursor: pointer;\n",
              "      display: none;\n",
              "      fill: #1967D2;\n",
              "      height: 32px;\n",
              "      padding: 0 0 0 0;\n",
              "      width: 32px;\n",
              "    }\n",
              "\n",
              "    .colab-df-convert:hover {\n",
              "      background-color: #E2EBFA;\n",
              "      box-shadow: 0px 1px 2px rgba(60, 64, 67, 0.3), 0px 1px 3px 1px rgba(60, 64, 67, 0.15);\n",
              "      fill: #174EA6;\n",
              "    }\n",
              "\n",
              "    [theme=dark] .colab-df-convert {\n",
              "      background-color: #3B4455;\n",
              "      fill: #D2E3FC;\n",
              "    }\n",
              "\n",
              "    [theme=dark] .colab-df-convert:hover {\n",
              "      background-color: #434B5C;\n",
              "      box-shadow: 0px 1px 3px 1px rgba(0, 0, 0, 0.15);\n",
              "      filter: drop-shadow(0px 1px 2px rgba(0, 0, 0, 0.3));\n",
              "      fill: #FFFFFF;\n",
              "    }\n",
              "  </style>\n",
              "\n",
              "      <script>\n",
              "        const buttonEl =\n",
              "          document.querySelector('#df-0684d207-4a8e-4dcc-bee8-d0e9ed45201d button.colab-df-convert');\n",
              "        buttonEl.style.display =\n",
              "          google.colab.kernel.accessAllowed ? 'block' : 'none';\n",
              "\n",
              "        async function convertToInteractive(key) {\n",
              "          const element = document.querySelector('#df-0684d207-4a8e-4dcc-bee8-d0e9ed45201d');\n",
              "          const dataTable =\n",
              "            await google.colab.kernel.invokeFunction('convertToInteractive',\n",
              "                                                     [key], {});\n",
              "          if (!dataTable) return;\n",
              "\n",
              "          const docLinkHtml = 'Like what you see? Visit the ' +\n",
              "            '<a target=\"_blank\" href=https://colab.research.google.com/notebooks/data_table.ipynb>data table notebook</a>'\n",
              "            + ' to learn more about interactive tables.';\n",
              "          element.innerHTML = '';\n",
              "          dataTable['output_type'] = 'display_data';\n",
              "          await google.colab.output.renderOutput(dataTable, element);\n",
              "          const docLink = document.createElement('div');\n",
              "          docLink.innerHTML = docLinkHtml;\n",
              "          element.appendChild(docLink);\n",
              "        }\n",
              "      </script>\n",
              "    </div>\n",
              "  </div>\n",
              "  "
            ]
          },
          "metadata": {},
          "execution_count": 2
        }
      ],
      "source": [
        "# Download the dataset\n",
        "dataframe = pd.read_csv('http://storage.googleapis.com/download.tensorflow.org/data/ecg.csv', header=None)\n",
        "raw_data = dataframe.values\n",
        "dataframe.head()"
      ]
    },
    {
      "cell_type": "markdown",
      "metadata": {
        "id": "LkUxZ0Z4RkcB"
      },
      "source": [
        "Parse the data so it can be split creating a variable containing the labels and another containing the data. Splitting the data into train, validation, and test set."
      ]
    },
    {
      "cell_type": "code",
      "execution_count": 3,
      "metadata": {
        "id": "DU4YjrSbQch7"
      },
      "outputs": [],
      "source": [
        "# The last element contains the labels\n",
        "labels = raw_data[:, -1]\n",
        "\n",
        "# The other data points are the electrocadriogram data\n",
        "data = raw_data[:, 0:-1]\n",
        "\n",
        "train_data, test_data, train_labels, test_labels = train_test_split(\n",
        "    data, labels, test_size=0.2, random_state=21\n",
        ")\n",
        "\n",
        "train_data, valid_data, train_labels, valid_labels = train_test_split(\n",
        "    train_data, train_labels, test_size=.1, random_state=21\n",
        ")"
      ]
    },
    {
      "cell_type": "markdown",
      "metadata": {
        "id": "H6-R_mfZR6Vd"
      },
      "source": [
        "Normalize the data so the features are treated equally, normalizing using the overall min and max value of all training data (train/validation set)."
      ]
    },
    {
      "cell_type": "code",
      "execution_count": 4,
      "metadata": {
        "id": "v6Zhh43fgVwW"
      },
      "outputs": [],
      "source": [
        "min_val = tf.reduce_min(tf.concat([train_data, valid_data], 0))\n",
        "max_val = tf.reduce_max(tf.concat([train_data, valid_data], 0))\n",
        "\n",
        "train_data = (train_data - min_val) / (max_val - min_val)\n",
        "valid_data = (valid_data - min_val) / (max_val - min_val)\n",
        "test_data = (test_data - min_val) / (max_val - min_val)\n",
        "\n",
        "train_data = tf.cast(train_data, tf.float32)\n",
        "valid_data = tf.cast(valid_data, tf.float32)\n",
        "test_data = tf.cast(test_data, tf.float32)"
      ]
    },
    {
      "cell_type": "markdown",
      "metadata": {
        "id": "2NbNey6OSgC5"
      },
      "source": [
        "The autoencoder is trained using only the normal rhythms, which are labeled in this dataset as 1. Here the normal rhythms is separated from the abnormal rhythms, and the labels are casted as type bool."
      ]
    },
    {
      "cell_type": "code",
      "execution_count": 5,
      "metadata": {
        "id": "t_8qImh7SfUm"
      },
      "outputs": [],
      "source": [
        "train_labels = train_labels.astype(bool)\n",
        "valid_labels = valid_labels.astype(bool)\n",
        "test_labels = test_labels.astype(bool)\n",
        "\n",
        "normal_train_data = train_data[train_labels]\n",
        "normal_valid_data = valid_data[valid_labels]\n",
        "normal_test_data = test_data[test_labels]\n",
        "\n",
        "anomalous_train_data = train_data[~train_labels]\n",
        "anomalous_valid_data = valid_data[~valid_labels]\n",
        "anomalous_test_data = test_data[~test_labels]"
      ]
    },
    {
      "cell_type": "markdown",
      "metadata": {
        "id": "UMKKkLvEWPs0"
      },
      "source": [
        "Plotting a normal ECG from the training set "
      ]
    },
    {
      "cell_type": "code",
      "execution_count": 6,
      "metadata": {
        "colab": {
          "base_uri": "https://localhost:8080/",
          "height": 281
        },
        "id": "heBd0l5xRGl1",
        "outputId": "876b6cbc-51e6-4169-dff5-78a747e79fc9"
      },
      "outputs": [
        {
          "output_type": "display_data",
          "data": {
            "text/plain": [
              "<Figure size 432x288 with 1 Axes>"
            ],
            "image/png": "[encoded data removed]"
          },
          "metadata": {
            "needs_background": "light"
          }
        }
      ],
      "source": [
        "plt.grid()\n",
        "plt.plot(np.arange(140), normal_train_data[0])\n",
        "plt.title(\"A Normal ECG\")\n",
        "plt.show()"
      ]
    },
    {
      "cell_type": "markdown",
      "metadata": {
        "id": "ui29z0dOWdJI"
      },
      "source": [
        "Plotting an anomalous ECG."
      ]
    },
    {
      "cell_type": "code",
      "execution_count": 7,
      "metadata": {
        "colab": {
          "base_uri": "https://localhost:8080/",
          "height": 281
        },
        "id": "4HuMfgbfWS38",
        "outputId": "c49d516b-0c7e-4f6a-c7e9-a1e765780651"
      },
      "outputs": [
        {
          "output_type": "display_data",
          "data": {
            "text/plain": [
              "<Figure size 432x288 with 1 Axes>"
            ],
            "image/png": "[encoded data removed]"
          },
          "metadata": {
            "needs_background": "light"
          }
        }
      ],
      "source": [
        "plt.grid()\n",
        "plt.plot(np.arange(140), anomalous_train_data[0])\n",
        "plt.title(\"An Anomalous ECG\")\n",
        "plt.show()"
      ]
    },
    {
      "cell_type": "markdown",
      "metadata": {
        "id": "N49Ei-2bWjwo"
      },
      "source": [
        "Building the Anomaly Detection Model, the encoder architecture is $140→ 32 → 16 → 8$. Thus, the decoder is the same architecture but in the opposite direction:"
      ]
    },
    {
      "cell_type": "code",
      "execution_count": 8,
      "metadata": {
        "id": "27hsqYzNWgA1"
      },
      "outputs": [],
      "source": [
        "class AnomalyDetector(Model):\n",
        "  def __init__(self):\n",
        "    super(AnomalyDetector, self).__init__()\n",
        "    self.encoder = tf.keras.Sequential([\n",
        "      layers.Dense(32, activation=\"selu\"),\n",
        "      layers.Dense(16, activation=\"selu\"),\n",
        "      layers.Dense(8, activation=\"selu\")])\n",
        "\n",
        "    self.decoder = tf.keras.Sequential([\n",
        "      layers.Dense(16, activation=\"selu\"),\n",
        "      layers.Dense(32, activation=\"selu\"),\n",
        "      layers.Dense(140, activation=\"sigmoid\")])\n",
        "\n",
        "  def call(self, x):\n",
        "    encoded = self.encoder(x)\n",
        "    decoded = self.decoder(encoded)\n",
        "    return decoded\n",
        "\n",
        "autoencoder = AnomalyDetector()"
      ]
    },
    {
      "cell_type": "markdown",
      "metadata": {
        "id": "CIu-WZjBWsIB"
      },
      "source": [
        "Compiling the model using Adam optimizer and Mean Squared Error as the loss function:"
      ]
    },
    {
      "cell_type": "code",
      "execution_count": 9,
      "metadata": {
        "id": "clxr9vSzWpwl"
      },
      "outputs": [],
      "source": [
        "autoencoder.compile(optimizer='adam', loss='mae')"
      ]
    },
    {
      "cell_type": "markdown",
      "source": [
        "Creating a callback to monitor validation loss to prevent overfitting of the model if the validation loss doesn't go down in 10 epochs, training is stopped."
      ],
      "metadata": {
        "id": "sKIbJj8GL3i-"
      }
    },
    {
      "cell_type": "code",
      "source": [
        "callback = tf.keras.callbacks.EarlyStopping(monitor='val_loss', patience = 10)"
      ],
      "metadata": {
        "id": "0MOqVpEtGdFF"
      },
      "execution_count": 10,
      "outputs": []
    },
    {
      "cell_type": "markdown",
      "metadata": {
        "id": "jQoU-JxiW1ob"
      },
      "source": [
        "Note we train the Autoencoder only on the normal ECG training set but both the normal and abnormal data is contained in the test set."
      ]
    },
    {
      "cell_type": "code",
      "execution_count": 11,
      "metadata": {
        "colab": {
          "base_uri": "https://localhost:8080/",
          "height": 0
        },
        "id": "qTWYmNLDWy2-",
        "outputId": "026e4dd9-8a9d-4627-8c7a-9adaa9eab89e"
      },
      "outputs": [
        {
          "output_type": "stream",
          "name": "stdout",
          "text": [
            "Epoch 1/100\n",
            "17/17 [==============================] - 2s 29ms/step - loss: 0.0630 - val_loss: 0.0502\n",
            "Epoch 2/100\n",
            "17/17 [==============================] - 0s 9ms/step - loss: 0.0427 - val_loss: 0.0351\n",
            "Epoch 3/100\n",
            "17/17 [==============================] - 0s 11ms/step - loss: 0.0303 - val_loss: 0.0265\n",
            "Epoch 4/100\n",
            "17/17 [==============================] - 0s 8ms/step - loss: 0.0242 - val_loss: 0.0228\n",
            "Epoch 5/100\n",
            "17/17 [==============================] - 0s 17ms/step - loss: 0.0213 - val_loss: 0.0210\n",
            "Epoch 6/100\n",
            "17/17 [==============================] - 0s 9ms/step - loss: 0.0200 - val_loss: 0.0204\n",
            "Epoch 7/100\n",
            "17/17 [==============================] - 0s 10ms/step - loss: 0.0195 - val_loss: 0.0199\n",
            "Epoch 8/100\n",
            "17/17 [==============================] - 0s 14ms/step - loss: 0.0191 - val_loss: 0.0194\n",
            "Epoch 9/100\n",
            "17/17 [==============================] - 0s 8ms/step - loss: 0.0185 - val_loss: 0.0186\n",
            "Epoch 10/100\n",
            "17/17 [==============================] - 0s 11ms/step - loss: 0.0180 - val_loss: 0.0184\n",
            "Epoch 11/100\n",
            "17/17 [==============================] - 0s 10ms/step - loss: 0.0176 - val_loss: 0.0178\n",
            "Epoch 12/100\n",
            "17/17 [==============================] - 0s 7ms/step - loss: 0.0168 - val_loss: 0.0169\n",
            "Epoch 13/100\n",
            "17/17 [==============================] - 0s 10ms/step - loss: 0.0161 - val_loss: 0.0165\n",
            "Epoch 14/100\n",
            "17/17 [==============================] - 0s 12ms/step - loss: 0.0160 - val_loss: 0.0159\n",
            "Epoch 15/100\n",
            "17/17 [==============================] - 0s 11ms/step - loss: 0.0154 - val_loss: 0.0158\n",
            "Epoch 16/100\n",
            "17/17 [==============================] - 0s 12ms/step - loss: 0.0149 - val_loss: 0.0151\n",
            "Epoch 17/100\n",
            "17/17 [==============================] - 0s 9ms/step - loss: 0.0145 - val_loss: 0.0149\n",
            "Epoch 18/100\n",
            "17/17 [==============================] - 0s 12ms/step - loss: 0.0146 - val_loss: 0.0145\n",
            "Epoch 19/100\n",
            "17/17 [==============================] - 0s 11ms/step - loss: 0.0143 - val_loss: 0.0145\n",
            "Epoch 20/100\n",
            "17/17 [==============================] - 0s 9ms/step - loss: 0.0139 - val_loss: 0.0143\n",
            "Epoch 21/100\n",
            "17/17 [==============================] - 0s 8ms/step - loss: 0.0137 - val_loss: 0.0142\n",
            "Epoch 22/100\n",
            "17/17 [==============================] - 0s 13ms/step - loss: 0.0136 - val_loss: 0.0140\n",
            "Epoch 23/100\n",
            "17/17 [==============================] - 0s 13ms/step - loss: 0.0135 - val_loss: 0.0140\n",
            "Epoch 24/100\n",
            "17/17 [==============================] - 0s 11ms/step - loss: 0.0134 - val_loss: 0.0139\n",
            "Epoch 25/100\n",
            "17/17 [==============================] - 0s 11ms/step - loss: 0.0133 - val_loss: 0.0139\n",
            "Epoch 26/100\n",
            "17/17 [==============================] - 0s 11ms/step - loss: 0.0132 - val_loss: 0.0136\n",
            "Epoch 27/100\n",
            "17/17 [==============================] - 0s 12ms/step - loss: 0.0130 - val_loss: 0.0135\n",
            "Epoch 28/100\n",
            "17/17 [==============================] - 0s 13ms/step - loss: 0.0130 - val_loss: 0.0134\n",
            "Epoch 29/100\n",
            "17/17 [==============================] - 0s 15ms/step - loss: 0.0129 - val_loss: 0.0135\n",
            "Epoch 30/100\n",
            "17/17 [==============================] - 0s 18ms/step - loss: 0.0128 - val_loss: 0.0131\n",
            "Epoch 31/100\n",
            "17/17 [==============================] - 0s 19ms/step - loss: 0.0126 - val_loss: 0.0131\n",
            "Epoch 32/100\n",
            "17/17 [==============================] - 0s 13ms/step - loss: 0.0125 - val_loss: 0.0132\n",
            "Epoch 33/100\n",
            "17/17 [==============================] - 0s 15ms/step - loss: 0.0124 - val_loss: 0.0127\n",
            "Epoch 34/100\n",
            "17/17 [==============================] - 0s 11ms/step - loss: 0.0123 - val_loss: 0.0126\n",
            "Epoch 35/100\n",
            "17/17 [==============================] - 0s 11ms/step - loss: 0.0121 - val_loss: 0.0123\n",
            "Epoch 36/100\n",
            "17/17 [==============================] - 0s 10ms/step - loss: 0.0119 - val_loss: 0.0123\n",
            "Epoch 37/100\n",
            "17/17 [==============================] - 0s 8ms/step - loss: 0.0120 - val_loss: 0.0121\n",
            "Epoch 38/100\n",
            "17/17 [==============================] - 0s 11ms/step - loss: 0.0118 - val_loss: 0.0119\n",
            "Epoch 39/100\n",
            "17/17 [==============================] - 0s 9ms/step - loss: 0.0115 - val_loss: 0.0118\n",
            "Epoch 40/100\n",
            "17/17 [==============================] - 0s 5ms/step - loss: 0.0115 - val_loss: 0.0118\n",
            "Epoch 41/100\n",
            "17/17 [==============================] - 0s 7ms/step - loss: 0.0112 - val_loss: 0.0118\n",
            "Epoch 42/100\n",
            "17/17 [==============================] - 0s 8ms/step - loss: 0.0110 - val_loss: 0.0113\n",
            "Epoch 43/100\n",
            "17/17 [==============================] - 0s 7ms/step - loss: 0.0108 - val_loss: 0.0111\n",
            "Epoch 44/100\n",
            "17/17 [==============================] - 0s 6ms/step - loss: 0.0107 - val_loss: 0.0112\n",
            "Epoch 45/100\n",
            "17/17 [==============================] - 0s 9ms/step - loss: 0.0105 - val_loss: 0.0109\n",
            "Epoch 46/100\n",
            "17/17 [==============================] - 0s 12ms/step - loss: 0.0103 - val_loss: 0.0107\n",
            "Epoch 47/100\n",
            "17/17 [==============================] - 0s 10ms/step - loss: 0.0102 - val_loss: 0.0106\n",
            "Epoch 48/100\n",
            "17/17 [==============================] - 0s 11ms/step - loss: 0.0103 - val_loss: 0.0111\n",
            "Epoch 49/100\n",
            "17/17 [==============================] - 0s 10ms/step - loss: 0.0103 - val_loss: 0.0106\n",
            "Epoch 50/100\n",
            "17/17 [==============================] - 0s 11ms/step - loss: 0.0100 - val_loss: 0.0105\n",
            "Epoch 51/100\n",
            "17/17 [==============================] - 0s 10ms/step - loss: 0.0101 - val_loss: 0.0103\n",
            "Epoch 52/100\n",
            "17/17 [==============================] - 0s 9ms/step - loss: 0.0098 - val_loss: 0.0103\n",
            "Epoch 53/100\n",
            "17/17 [==============================] - 0s 8ms/step - loss: 0.0099 - val_loss: 0.0103\n",
            "Epoch 54/100\n",
            "17/17 [==============================] - 0s 8ms/step - loss: 0.0098 - val_loss: 0.0102\n",
            "Epoch 55/100\n",
            "17/17 [==============================] - 0s 13ms/step - loss: 0.0097 - val_loss: 0.0103\n",
            "Epoch 56/100\n",
            "17/17 [==============================] - 0s 12ms/step - loss: 0.0096 - val_loss: 0.0103\n",
            "Epoch 57/100\n",
            "17/17 [==============================] - 0s 11ms/step - loss: 0.0097 - val_loss: 0.0104\n",
            "Epoch 58/100\n",
            "17/17 [==============================] - 0s 7ms/step - loss: 0.0097 - val_loss: 0.0101\n",
            "Epoch 59/100\n",
            "17/17 [==============================] - 0s 11ms/step - loss: 0.0096 - val_loss: 0.0104\n",
            "Epoch 60/100\n",
            "17/17 [==============================] - 0s 5ms/step - loss: 0.0096 - val_loss: 0.0100\n",
            "Epoch 61/100\n",
            "17/17 [==============================] - 0s 7ms/step - loss: 0.0094 - val_loss: 0.0101\n",
            "Epoch 62/100\n",
            "17/17 [==============================] - 0s 9ms/step - loss: 0.0095 - val_loss: 0.0100\n",
            "Epoch 63/100\n",
            "17/17 [==============================] - 0s 12ms/step - loss: 0.0095 - val_loss: 0.0101\n",
            "Epoch 64/100\n",
            "17/17 [==============================] - 0s 13ms/step - loss: 0.0094 - val_loss: 0.0098\n",
            "Epoch 65/100\n",
            "17/17 [==============================] - 0s 10ms/step - loss: 0.0094 - val_loss: 0.0101\n",
            "Epoch 66/100\n",
            "17/17 [==============================] - 0s 10ms/step - loss: 0.0094 - val_loss: 0.0099\n",
            "Epoch 67/100\n",
            "17/17 [==============================] - 0s 11ms/step - loss: 0.0094 - val_loss: 0.0099\n",
            "Epoch 68/100\n",
            "17/17 [==============================] - 0s 13ms/step - loss: 0.0093 - val_loss: 0.0101\n",
            "Epoch 69/100\n",
            "17/17 [==============================] - 0s 12ms/step - loss: 0.0094 - val_loss: 0.0098\n",
            "Epoch 70/100\n",
            "17/17 [==============================] - 0s 12ms/step - loss: 0.0094 - val_loss: 0.0099\n",
            "Epoch 71/100\n",
            "17/17 [==============================] - 0s 16ms/step - loss: 0.0093 - val_loss: 0.0099\n",
            "Epoch 72/100\n",
            "17/17 [==============================] - 0s 10ms/step - loss: 0.0095 - val_loss: 0.0100\n",
            "Epoch 73/100\n",
            "17/17 [==============================] - 0s 9ms/step - loss: 0.0095 - val_loss: 0.0098\n",
            "Epoch 74/100\n",
            "17/17 [==============================] - 0s 11ms/step - loss: 0.0093 - val_loss: 0.0098\n",
            "Epoch 75/100\n",
            "17/17 [==============================] - 0s 15ms/step - loss: 0.0092 - val_loss: 0.0097\n",
            "Epoch 76/100\n",
            "17/17 [==============================] - 0s 14ms/step - loss: 0.0093 - val_loss: 0.0098\n",
            "Epoch 77/100\n",
            "17/17 [==============================] - 0s 11ms/step - loss: 0.0093 - val_loss: 0.0097\n",
            "Epoch 78/100\n",
            "17/17 [==============================] - 0s 12ms/step - loss: 0.0094 - val_loss: 0.0099\n",
            "Epoch 79/100\n",
            "17/17 [==============================] - 0s 10ms/step - loss: 0.0093 - val_loss: 0.0099\n",
            "Epoch 80/100\n",
            "17/17 [==============================] - 0s 11ms/step - loss: 0.0093 - val_loss: 0.0098\n",
            "Epoch 81/100\n",
            "17/17 [==============================] - 0s 12ms/step - loss: 0.0092 - val_loss: 0.0097\n",
            "Epoch 82/100\n",
            "17/17 [==============================] - 0s 11ms/step - loss: 0.0092 - val_loss: 0.0096\n",
            "Epoch 83/100\n",
            "17/17 [==============================] - 0s 11ms/step - loss: 0.0091 - val_loss: 0.0098\n",
            "Epoch 84/100\n",
            "17/17 [==============================] - 0s 10ms/step - loss: 0.0092 - val_loss: 0.0097\n",
            "Epoch 85/100\n",
            "17/17 [==============================] - 0s 10ms/step - loss: 0.0092 - val_loss: 0.0096\n",
            "Epoch 86/100\n",
            "17/17 [==============================] - 0s 8ms/step - loss: 0.0092 - val_loss: 0.0099\n",
            "Epoch 87/100\n",
            "17/17 [==============================] - 0s 16ms/step - loss: 0.0092 - val_loss: 0.0097\n",
            "Epoch 88/100\n",
            "17/17 [==============================] - 0s 15ms/step - loss: 0.0093 - val_loss: 0.0097\n",
            "Epoch 89/100\n",
            "17/17 [==============================] - 0s 11ms/step - loss: 0.0091 - val_loss: 0.0096\n",
            "Epoch 90/100\n",
            "17/17 [==============================] - 0s 13ms/step - loss: 0.0091 - val_loss: 0.0096\n",
            "Epoch 91/100\n",
            "17/17 [==============================] - 0s 13ms/step - loss: 0.0091 - val_loss: 0.0096\n",
            "Epoch 92/100\n",
            "17/17 [==============================] - 0s 10ms/step - loss: 0.0091 - val_loss: 0.0096\n",
            "Epoch 93/100\n",
            "17/17 [==============================] - 0s 11ms/step - loss: 0.0091 - val_loss: 0.0096\n",
            "Epoch 94/100\n",
            "17/17 [==============================] - 0s 8ms/step - loss: 0.0092 - val_loss: 0.0097\n",
            "Epoch 95/100\n",
            "17/17 [==============================] - 0s 11ms/step - loss: 0.0092 - val_loss: 0.0095\n",
            "Epoch 96/100\n",
            "17/17 [==============================] - 0s 11ms/step - loss: 0.0090 - val_loss: 0.0095\n",
            "Epoch 97/100\n",
            "17/17 [==============================] - 0s 9ms/step - loss: 0.0092 - val_loss: 0.0099\n",
            "Epoch 98/100\n",
            "17/17 [==============================] - 0s 15ms/step - loss: 0.0092 - val_loss: 0.0096\n",
            "Epoch 99/100\n",
            "17/17 [==============================] - 0s 17ms/step - loss: 0.0090 - val_loss: 0.0096\n",
            "Epoch 100/100\n",
            "17/17 [==============================] - 0s 14ms/step - loss: 0.0091 - val_loss: 0.0096\n"
          ]
        }
      ],
      "source": [
        "history = autoencoder.fit(normal_train_data, normal_train_data, \n",
        "            epochs=100, \n",
        "            batch_size=128,\n",
        "            callbacks = [callback],\n",
        "            validation_data=(normal_valid_data, normal_valid_data),\n",
        "            shuffle=True)"
      ]
    },
    {
      "cell_type": "markdown",
      "metadata": {
        "id": "kaw6VBysXdEd"
      },
      "source": [
        "Plotting the training and validation loss for each epoch of training:"
      ]
    },
    {
      "cell_type": "code",
      "execution_count": 12,
      "metadata": {
        "colab": {
          "base_uri": "https://localhost:8080/",
          "height": 283
        },
        "id": "p5bWU8gjXCTC",
        "outputId": "064dee31-bbd7-4929-cb25-827c6a3a6ca7"
      },
      "outputs": [
        {
          "output_type": "execute_result",
          "data": {
            "text/plain": [
              "<matplotlib.legend.Legend at 0x7efcd79e5d50>"
            ]
          },
          "metadata": {},
          "execution_count": 12
        },
        {
          "output_type": "display_data",
          "data": {
            "text/plain": [
              "<Figure size 432x288 with 1 Axes>"
            ],
            "image/png": "[encoded data removed]"
          },
          "metadata": {
            "needs_background": "light"
          }
        }
      ],
      "source": [
        "plt.plot(history.history[\"loss\"], label=\"Training Loss\")\n",
        "plt.plot(history.history[\"val_loss\"], label=\"Validation Loss\")\n",
        "plt.legend()"
      ]
    },
    {
      "cell_type": "markdown",
      "metadata": {
        "id": "LtD-Q7rNXsqq"
      },
      "source": [
        "Plotting a normal ECG from the training set, the reconstruction after it's encoded and decoded by the autoencoder, and the reconstruction error."
      ]
    },
    {
      "cell_type": "code",
      "execution_count": 13,
      "metadata": {
        "colab": {
          "base_uri": "https://localhost:8080/",
          "height": 265
        },
        "id": "nYGLNwf_Xbm7",
        "outputId": "29c387b3-5a82-409a-882e-9f7dee7877e2"
      },
      "outputs": [
        {
          "output_type": "display_data",
          "data": {
            "text/plain": [
              "<Figure size 432x288 with 1 Axes>"
            ],
            "image/png": "[encoded data removed]"
          },
          "metadata": {
            "needs_background": "light"
          }
        }
      ],
      "source": [
        "encoded_data = autoencoder.encoder(normal_test_data).numpy()\n",
        "decoded_data = autoencoder.decoder(encoded_data).numpy()\n",
        "\n",
        "plt.plot(normal_test_data[0], 'b')\n",
        "plt.plot(decoded_data[0], 'r')\n",
        "plt.fill_between(np.arange(140), decoded_data[0], normal_test_data[0], color='lightcoral')\n",
        "plt.legend(labels=[\"Input\", \"Reconstruction\", \"Error\"])\n",
        "plt.show()"
      ]
    },
    {
      "cell_type": "markdown",
      "metadata": {
        "id": "B0sSNFWnX-JX"
      },
      "source": [
        "Now, we will do the same for the anomalous data:"
      ]
    },
    {
      "cell_type": "code",
      "execution_count": 14,
      "metadata": {
        "colab": {
          "base_uri": "https://localhost:8080/",
          "height": 265
        },
        "id": "Sagm1hU5XyMX",
        "outputId": "06077c8f-3fef-4f17-bcd4-63a6904f48bc"
      },
      "outputs": [
        {
          "output_type": "display_data",
          "data": {
            "text/plain": [
              "<Figure size 432x288 with 1 Axes>"
            ],
            "image/png": "[encoded data removed]"
          },
          "metadata": {
            "needs_background": "light"
          }
        }
      ],
      "source": [
        "encoded_data = autoencoder.encoder(anomalous_test_data).numpy()\n",
        "decoded_data = autoencoder.decoder(encoded_data).numpy()\n",
        "\n",
        "plt.plot(anomalous_test_data[0], 'b')\n",
        "plt.plot(decoded_data[0], 'r')\n",
        "plt.fill_between(np.arange(140), decoded_data[0], anomalous_test_data[0], color='lightcoral')\n",
        "plt.legend(labels=[\"Input\", \"Reconstruction\", \"Error\"])\n",
        "plt.show()"
      ]
    },
    {
      "cell_type": "markdown",
      "source": [
        "Here will compute the normal/abnormal train/validation loss from the model using mean absolute error."
      ],
      "metadata": {
        "id": "8EQA4ZAEMg9E"
      }
    },
    {
      "cell_type": "code",
      "execution_count": 15,
      "metadata": {
        "id": "Hzhr96QagVwd"
      },
      "outputs": [],
      "source": [
        "# Normal reconstructions\n",
        "reconstructions_train = autoencoder.predict(normal_train_data)\n",
        "train_loss = tf.keras.losses.mae(reconstructions_train, normal_train_data)\n",
        "reconstructions_valid = autoencoder.predict(normal_valid_data)\n",
        "valid_loss = tf.keras.losses.mae(reconstructions_valid, normal_valid_data)\n",
        "# Abnormal reconstructions\n",
        "ab_reconstructions_train = autoencoder.predict(anomalous_train_data)\n",
        "ab_train_loss = tf.keras.losses.mae(ab_reconstructions_train, anomalous_train_data)\n",
        "ab_reconstructions_valid = autoencoder.predict(anomalous_valid_data)\n",
        "ab_valid_loss = tf.keras.losses.mae(ab_reconstructions_valid, anomalous_valid_data)"
      ]
    },
    {
      "cell_type": "markdown",
      "source": [
        "Defining a function predict which takes the model, data, and threshold. Computes the reconstruction loss and returns the truthy value for all elements if they are less than the threshold (True)."
      ],
      "metadata": {
        "id": "BQje_gyqNwU2"
      }
    },
    {
      "cell_type": "code",
      "source": [
        "def predict(model, data, threshold):\n",
        "  reconstructions = model.predict(data)\n",
        "  loss = tf.keras.losses.mae(reconstructions, data)\n",
        "  return tf.math.less(loss, threshold)"
      ],
      "metadata": {
        "id": "UtN7WMl7ON5_"
      },
      "execution_count": 16,
      "outputs": []
    },
    {
      "cell_type": "markdown",
      "source": [
        "Computing the abnormal/normal mean of the validation loss"
      ],
      "metadata": {
        "id": "asBaw54RPTR6"
      }
    },
    {
      "cell_type": "code",
      "source": [
        "abnormal_valid_mean_loss = np.mean(ab_valid_loss)\n",
        "normal_valid_mean_loss = np.mean(valid_loss)"
      ],
      "metadata": {
        "id": "NKzxu0m3OQ5-"
      },
      "execution_count": 17,
      "outputs": []
    },
    {
      "cell_type": "markdown",
      "source": [
        "Computing 100 different thresholds that start at the normal threshold and end at the abnormal threshold incrementing by their difference divided by 100."
      ],
      "metadata": {
        "id": "5Atp3uV8PzQj"
      }
    },
    {
      "cell_type": "code",
      "source": [
        "increment = (abnormal_valid_mean_loss - normal_valid_mean_loss)/100\n",
        "thresholds = np.arange(normal_valid_mean_loss, abnormal_valid_mean_loss, \n",
        "increment)"
      ],
      "metadata": {
        "id": "ZQyAwwMRPaUX"
      },
      "execution_count": 18,
      "outputs": []
    },
    {
      "cell_type": "markdown",
      "source": [
        "Creating a numpy array to store the accuracy for each of the different threshold values."
      ],
      "metadata": {
        "id": "OeDnavADQWy_"
      }
    },
    {
      "cell_type": "code",
      "source": [
        "thresh_size = thresholds.shape[0]\n",
        "accuracies = np.zeros(thresh_size)"
      ],
      "metadata": {
        "id": "_HbuIGLZOpEA"
      },
      "execution_count": 19,
      "outputs": []
    },
    {
      "cell_type": "markdown",
      "metadata": {
        "id": "jb6OgjNOgVwd"
      },
      "source": [
        "Calculation of the threshold that gives the best accuracy on the validation data. This is done by going through all thresholds and testing the accuracy of the model with each threshold.\n"
      ]
    },
    {
      "cell_type": "code",
      "execution_count": 20,
      "metadata": {
        "id": "EiLqG-NfgVwe"
      },
      "outputs": [],
      "source": [
        "for i in range(thresh_size):\n",
        "  preds = predict(autoencoder, valid_data, thresholds[i])\n",
        "  accuracies[i] = accuracy_score(preds, valid_labels)"
      ]
    },
    {
      "cell_type": "markdown",
      "source": [
        "Setting the threshold to the one in thresholds which gave the best accuracy."
      ],
      "metadata": {
        "id": "w7SRRg72RbKp"
      }
    },
    {
      "cell_type": "code",
      "source": [
        "argmax = np.argmax(accuracies)\n",
        "best_threshold = thresholds[argmax]\n",
        "print(\"The best threshold based on validation data: \", best_threshold)"
      ],
      "metadata": {
        "colab": {
          "base_uri": "https://localhost:8080/",
          "height": 0
        },
        "id": "RVi6WxB0Rcqc",
        "outputId": "634e69a4-aafc-44fa-e5ab-0870ad1bcf2e"
      },
      "execution_count": 21,
      "outputs": [
        {
          "output_type": "stream",
          "name": "stdout",
          "text": [
            "The best threshold based on validation data:  0.02017482239753006\n"
          ]
        }
      ]
    },
    {
      "cell_type": "markdown",
      "metadata": {
        "id": "r6ZOm2d3YOUJ"
      },
      "source": [
        "We now detect anomalies by calculating whether the reconstruction loss is greater than a fixed threshold we just computed. We then will classify future examples as anomalous if the reconstruction error is higher than this threshold.\n",
        "\n",
        "Plotting the reconstruction error on all ECGs from the training set"
      ]
    },
    {
      "cell_type": "code",
      "source": [
        "reconstructions = autoencoder.predict(train_data)\n",
        "train_loss = tf.keras.losses.mae(reconstructions, train_data)\n",
        "plt.figure(figsize=(20,5))\n",
        "plt.hist(train_loss[None,:], bins=100)\n",
        "plt.axvline(best_threshold, c='r')\n",
        "plt.xlabel(\"MAE reconstruction loss of the train data\")\n",
        "plt.ylabel(\"No of examples\")\n",
        "plt.show()"
      ],
      "metadata": {
        "colab": {
          "base_uri": "https://localhost:8080/",
          "height": 187
        },
        "id": "5InLyW5jbht_",
        "outputId": "95ef046c-5b35-4e6e-d0d2-84ef29adf181"
      },
      "execution_count": 22,
      "outputs": [
        {
          "output_type": "display_data",
          "data": {
            "text/plain": [
              "<Figure size 1440x360 with 1 Axes>"
            ],
            "image/png": "[encoded data removed]"
          },
          "metadata": {
            "needs_background": "light"
          }
        }
      ]
    },
    {
      "cell_type": "markdown",
      "source": [
        "Plotting the reconstruction error on all ECGs from the validation set"
      ],
      "metadata": {
        "id": "lLxR7Sn1bqHa"
      }
    },
    {
      "cell_type": "code",
      "source": [
        "reconstructions = autoencoder.predict(valid_data)\n",
        "valid_loss = tf.keras.losses.mae(reconstructions, valid_data)\n",
        "plt.figure(figsize=(20,5))\n",
        "plt.hist(valid_loss[None,:], bins=100)\n",
        "plt.axvline(best_threshold, c='r')\n",
        "plt.xlabel(\"MAE reconstruction loss of the validation data\")\n",
        "plt.ylabel(\"No of examples\")\n",
        "plt.show()"
      ],
      "metadata": {
        "colab": {
          "base_uri": "https://localhost:8080/",
          "height": 188
        },
        "id": "W7Sg82coUx1Q",
        "outputId": "45946343-de20-4dff-ffab-3be55f4a4bf7"
      },
      "execution_count": 23,
      "outputs": [
        {
          "output_type": "display_data",
          "data": {
            "text/plain": [
              "<Figure size 1440x360 with 1 Axes>"
            ],
            "image/png": "[encoded data removed]"
          },
          "metadata": {
            "needs_background": "light"
          }
        }
      ]
    },
    {
      "cell_type": "markdown",
      "metadata": {
        "id": "LunuRo2UZGRX"
      },
      "source": [
        "Plotting the reconstruction error on all ECGs from the test set"
      ]
    },
    {
      "cell_type": "code",
      "execution_count": 24,
      "metadata": {
        "colab": {
          "base_uri": "https://localhost:8080/",
          "height": 188
        },
        "id": "fFqUrgAuY-YX",
        "outputId": "9f243101-cf2c-4fc8-f040-0990751b1cd2"
      },
      "outputs": [
        {
          "output_type": "display_data",
          "data": {
            "text/plain": [
              "<Figure size 1440x360 with 1 Axes>"
            ],
            "image/png": "[encoded data removed]"
          },
          "metadata": {
            "needs_background": "light"
          }
        }
      ],
      "source": [
        "reconstructions = autoencoder.predict(test_data)\n",
        "test_loss = tf.keras.losses.mae(reconstructions, test_data)\n",
        "plt.figure(figsize=(20,5))\n",
        "plt.hist(test_loss[None,:], bins=100)\n",
        "plt.axvline(best_threshold, c='r')\n",
        "plt.xlabel(\"MAE reconstruction loss of the test data\")\n",
        "plt.ylabel(\"No of examples\")\n",
        "plt.show()"
      ]
    },
    {
      "cell_type": "markdown",
      "metadata": {
        "id": "Zvk-UORNZVGa"
      },
      "source": [
        "Classify an ECG as an anomaly if the reconstruction error is greater than the threshold."
      ]
    },
    {
      "cell_type": "code",
      "execution_count": 25,
      "metadata": {
        "id": "iAMiWMgdZR9d"
      },
      "outputs": [],
      "source": [
        "def print_stats(predictions, labels, model, data):\n",
        "  cf = confusion_matrix(labels, predictions)\n",
        "  print(\"Confusion Matrix: \\n prediction: F      T \")\n",
        "  print(\"             {}   {}\".format(preds[preds == False].shape[0], preds[preds == True].shape[0]))\n",
        "  print(\" label: F   [[{}   {}]    {}\".format(cf[0,0], cf[0,1], labels[labels == False].shape[0]))\n",
        "  print(\"        T    [{}   {}]]   {}\".format(cf[1,0], cf[1,1], labels[labels == True].shape[0]))\n",
        "  print(\"Accuracy = {}\".format(accuracy_score(labels, predictions)))\n",
        "  reconstructions = model.predict(data[labels])\n",
        "  nl_test_loss =  tf.keras.losses.mae(reconstructions, data[labels])\n",
        "  print(\"Normal Test Data Mean = {}\".format(np.mean(nl_test_loss)))\n",
        "  print(\"Normal Test Data Standard Deviation = {}\".format(np.std(nl_test_loss)))\n",
        "  reconstructions = model.predict(data[~labels])\n",
        "  ab_test_loss =  tf.keras.losses.mae(reconstructions, data[~labels])\n",
        "  print(\"Abnormal Test Data Mean = {}\".format(np.mean(ab_test_loss)))\n",
        "  print(\"Abnormal Test Data Standard Deviation = {}\".format(np.std(ab_test_loss)))\n",
        "  print(\"Precision = {}\".format(precision_score(labels, predictions)))\n",
        "  print(\"Recall = {}\".format(recall_score(labels, predictions)))"
      ]
    },
    {
      "cell_type": "code",
      "execution_count": 26,
      "metadata": {
        "colab": {
          "base_uri": "https://localhost:8080/",
          "height": 0
        },
        "id": "cU94s304gVwg",
        "outputId": "517ec89b-d712-4c62-996c-e1b2852e213d"
      },
      "outputs": [
        {
          "output_type": "execute_result",
          "data": {
            "text/plain": [
              "array([[0.01975935, 0.945     ],\n",
              "       [0.01996708, 0.9475    ],\n",
              "       [0.02017482, 0.9525    ],\n",
              "       [0.02038256, 0.9525    ],\n",
              "       [0.0205903 , 0.9525    ]])"
            ]
          },
          "metadata": {},
          "execution_count": 26
        }
      ],
      "source": [
        "thr_acc = np.zeros((thresh_size, 2))\n",
        "thr_acc[:, 0] = thresholds\n",
        "thr_acc[:, 1] = accuracies\n",
        "thr_acc[argmax - 2 : argmax + 3]"
      ]
    },
    {
      "cell_type": "markdown",
      "metadata": {
        "id": "ydGV2BNigVwh"
      },
      "source": [
        "Calculation of the accuracy and the confusion matrix on the test data with threshold set based on the best threshold from the validation data"
      ]
    },
    {
      "cell_type": "code",
      "execution_count": 27,
      "metadata": {
        "colab": {
          "base_uri": "https://localhost:8080/",
          "height": 0
        },
        "id": "Dh0ufVaNZYnK",
        "outputId": "06010248-d8ce-498f-d1c2-39f2251a12c9"
      },
      "outputs": [
        {
          "output_type": "stream",
          "name": "stdout",
          "text": [
            "Confusion Matrix: \n",
            " prediction: F      T \n",
            "             437   563\n",
            " label: F   [[422   18]    440\n",
            "        T    [15   545]]   560\n",
            "Accuracy = 0.967\n",
            "Normal Test Data Mean = 0.009009676054120064\n",
            "Normal Test Data Standard Deviation = 0.0042469981126487255\n",
            "Abnormal Test Data Mean = 0.030258916318416595\n",
            "Abnormal Test Data Standard Deviation = 0.006745899096131325\n",
            "Precision = 0.9680284191829485\n",
            "Recall = 0.9732142857142857\n"
          ]
        }
      ],
      "source": [
        "preds = predict(autoencoder, test_data, best_threshold)\n",
        "print_stats(preds, test_labels, autoencoder, test_data)"
      ]
    },
    {
      "cell_type": "code",
      "source": [
        "accuracy = (0.96 + .964 + 0.961 + 0.959 + 0.962 + .962 + .959 + .967 + .967 + .967)/10.\n",
        "round(accuracy, 4)"
      ],
      "metadata": {
        "colab": {
          "base_uri": "https://localhost:8080/"
        },
        "id": "HG90MmtxnYSc",
        "outputId": "f405dbc6-4ca5-4303-ccc3-6b1f5578a273"
      },
      "execution_count": 31,
      "outputs": [
        {
          "output_type": "execute_result",
          "data": {
            "text/plain": [
              "0.9628"
            ]
          },
          "metadata": {},
          "execution_count": 31
        }
      ]
    },
    {
      "cell_type": "code",
      "source": [
        "norm_mean = (0.009169315919280052 + \n",
        "             0.009109933860599995 + \n",
        "             0.008567622862756252 +\n",
        "             0.008818737231194973 +\n",
        "             0.008740234188735485 +\n",
        "             0.009152278304100037 +\n",
        "             0.008995910175144672 + \n",
        "             0.008402740582823753 +\n",
        "             0.008534357883036137 +\n",
        "             0.009009676054120064)/10.\n",
        "round(norm_mean, 4)"
      ],
      "metadata": {
        "colab": {
          "base_uri": "https://localhost:8080/"
        },
        "id": "PUkqUU4entUv",
        "outputId": "0cad8e85-adcb-4bb2-f0f2-e45ac3412a44"
      },
      "execution_count": 32,
      "outputs": [
        {
          "output_type": "execute_result",
          "data": {
            "text/plain": [
              "0.0089"
            ]
          },
          "metadata": {},
          "execution_count": 32
        }
      ]
    },
    {
      "cell_type": "code",
      "source": [
        "norm_sd = (0.004234729800373316 + \n",
        "           0.00439373729750514 +\n",
        "           0.004056971520185471 +\n",
        "           0.004446151200681925 +\n",
        "           0.004164550453424454 +\n",
        "           0.004508689045906067 +\n",
        "           0.004053134471178055 +\n",
        "           0.003959235269576311 +\n",
        "           0.004281103610992432 +\n",
        "           0.0042469981126487255\n",
        "           )/10.\n",
        "round(norm_sd, 4)"
      ],
      "metadata": {
        "colab": {
          "base_uri": "https://localhost:8080/"
        },
        "id": "tH6oEJZBoyU1",
        "outputId": "81b9076f-2dff-4649-b583-a95759fd9a88"
      },
      "execution_count": 33,
      "outputs": [
        {
          "output_type": "execute_result",
          "data": {
            "text/plain": [
              "0.0042"
            ]
          },
          "metadata": {},
          "execution_count": 33
        }
      ]
    },
    {
      "cell_type": "code",
      "source": [
        "ab_mean = (0.029635341838002205 +\n",
        "           .028675680980086327 +\n",
        "           0.028975170105695724 +\n",
        "           0.028293026611208916 +\n",
        "           0.028457915410399437 +\n",
        "           0.03081071935594082 +\n",
        "           0.03119600936770439 +\n",
        "           0.029310746118426323 + \n",
        "           0.031000155955553055 +\n",
        "           0.030258916318416595)/10.\n",
        "round(ab_mean, 4)"
      ],
      "metadata": {
        "colab": {
          "base_uri": "https://localhost:8080/"
        },
        "id": "U93kAkYUpOGJ",
        "outputId": "a617e012-9d5b-4b24-f845-2467f09af3d3"
      },
      "execution_count": 34,
      "outputs": [
        {
          "output_type": "execute_result",
          "data": {
            "text/plain": [
              "0.0297"
            ]
          },
          "metadata": {},
          "execution_count": 34
        }
      ]
    },
    {
      "cell_type": "code",
      "source": [
        "ab_sd = (0.006848580669611692 +\n",
        "          0.007510630413889885 +\n",
        "         0.00764775974676013 +\n",
        "         0.006770873907953501 +\n",
        "         0.007251232396811247 +\n",
        "         0.0066500757820904255 +\n",
        "         0.007290606386959553 +\n",
        "         0.007161801215261221 +\n",
        "         0.007290925830602646 +\n",
        "         0.006745899096131325)/10.\n",
        "round(ab_sd, 4)"
      ],
      "metadata": {
        "colab": {
          "base_uri": "https://localhost:8080/"
        },
        "id": "sc3H8gJSFZsk",
        "outputId": "a6997265-db40-4249-9ee0-50cdc99f5f90"
      },
      "execution_count": 35,
      "outputs": [
        {
          "output_type": "execute_result",
          "data": {
            "text/plain": [
              "0.0071"
            ]
          },
          "metadata": {},
          "execution_count": 35
        }
      ]
    }
  ],
  "metadata": {
    "accelerator": "GPU",
    "colab": {
      "collapsed_sections": [],
      "name": "AE.ipynb",
      "provenance": []
    },
    "kernelspec": {
      "display_name": "Python 3",
      "name": "python3"
    },
    "language_info": {
      "codemirror_mode": {
        "name": "ipython",
        "version": 3
      },
      "file_extension": ".py",
      "mimetype": "text/x-python",
      "name": "python",
      "nbconvert_exporter": "python",
      "pygments_lexer": "ipython3",
      "version": "3.9.7"
    }
  },
  "nbformat": 4,
  "nbformat_minor": 0
}